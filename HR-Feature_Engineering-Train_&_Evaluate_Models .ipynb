{
 "cells": [
  {
   "cell_type": "code",
   "execution_count": 3,
   "metadata": {
    "colab": {},
    "colab_type": "code",
    "id": "YBp2qDPb8pDo"
   },
   "outputs": [],
   "source": [
    "# import pandas as pd\n",
    "# import numpy as np\n",
    "# import seaborn as sns\n",
    "# import matplotlib.pyplot as plt"
   ]
  },
  {
   "cell_type": "code",
   "execution_count": 27,
   "metadata": {
    "colab": {},
    "colab_type": "code",
    "id": "tjIiJdM4u1IE"
   },
   "outputs": [
    {
     "data": {
      "application/javascript": [
       "\n",
       "        if (window._pyforest_update_imports_cell) { window._pyforest_update_imports_cell('import pandas as pd\\nimport seaborn as sns'); }\n",
       "    "
      ],
      "text/plain": [
       "<IPython.core.display.Javascript object>"
      ]
     },
     "metadata": {},
     "output_type": "display_data"
    }
   ],
   "source": [
    "df = pd.read_csv('Human_Resources.csv')"
   ]
  },
  {
   "cell_type": "code",
   "execution_count": 2,
   "metadata": {
    "colab": {},
    "colab_type": "code",
    "id": "q4_wPDKCu5Uc"
   },
   "outputs": [
    {
     "data": {
      "text/html": [
       "<div>\n",
       "<style scoped>\n",
       "    .dataframe tbody tr th:only-of-type {\n",
       "        vertical-align: middle;\n",
       "    }\n",
       "\n",
       "    .dataframe tbody tr th {\n",
       "        vertical-align: top;\n",
       "    }\n",
       "\n",
       "    .dataframe thead th {\n",
       "        text-align: right;\n",
       "    }\n",
       "</style>\n",
       "<table border=\"1\" class=\"dataframe\">\n",
       "  <thead>\n",
       "    <tr style=\"text-align: right;\">\n",
       "      <th></th>\n",
       "      <th>Age</th>\n",
       "      <th>Attrition</th>\n",
       "      <th>BusinessTravel</th>\n",
       "      <th>DailyRate</th>\n",
       "      <th>Department</th>\n",
       "      <th>DistanceFromHome</th>\n",
       "      <th>Education</th>\n",
       "      <th>EducationField</th>\n",
       "      <th>EmployeeCount</th>\n",
       "      <th>EmployeeNumber</th>\n",
       "      <th>...</th>\n",
       "      <th>RelationshipSatisfaction</th>\n",
       "      <th>StandardHours</th>\n",
       "      <th>StockOptionLevel</th>\n",
       "      <th>TotalWorkingYears</th>\n",
       "      <th>TrainingTimesLastYear</th>\n",
       "      <th>WorkLifeBalance</th>\n",
       "      <th>YearsAtCompany</th>\n",
       "      <th>YearsInCurrentRole</th>\n",
       "      <th>YearsSinceLastPromotion</th>\n",
       "      <th>YearsWithCurrManager</th>\n",
       "    </tr>\n",
       "  </thead>\n",
       "  <tbody>\n",
       "    <tr>\n",
       "      <th>0</th>\n",
       "      <td>41</td>\n",
       "      <td>Yes</td>\n",
       "      <td>Travel_Rarely</td>\n",
       "      <td>1102</td>\n",
       "      <td>Sales</td>\n",
       "      <td>1</td>\n",
       "      <td>2</td>\n",
       "      <td>Life Sciences</td>\n",
       "      <td>1</td>\n",
       "      <td>1</td>\n",
       "      <td>...</td>\n",
       "      <td>1</td>\n",
       "      <td>80</td>\n",
       "      <td>0</td>\n",
       "      <td>8</td>\n",
       "      <td>0</td>\n",
       "      <td>1</td>\n",
       "      <td>6</td>\n",
       "      <td>4</td>\n",
       "      <td>0</td>\n",
       "      <td>5</td>\n",
       "    </tr>\n",
       "    <tr>\n",
       "      <th>1</th>\n",
       "      <td>49</td>\n",
       "      <td>No</td>\n",
       "      <td>Travel_Frequently</td>\n",
       "      <td>279</td>\n",
       "      <td>Research &amp; Development</td>\n",
       "      <td>8</td>\n",
       "      <td>1</td>\n",
       "      <td>Life Sciences</td>\n",
       "      <td>1</td>\n",
       "      <td>2</td>\n",
       "      <td>...</td>\n",
       "      <td>4</td>\n",
       "      <td>80</td>\n",
       "      <td>1</td>\n",
       "      <td>10</td>\n",
       "      <td>3</td>\n",
       "      <td>3</td>\n",
       "      <td>10</td>\n",
       "      <td>7</td>\n",
       "      <td>1</td>\n",
       "      <td>7</td>\n",
       "    </tr>\n",
       "    <tr>\n",
       "      <th>2</th>\n",
       "      <td>37</td>\n",
       "      <td>Yes</td>\n",
       "      <td>Travel_Rarely</td>\n",
       "      <td>1373</td>\n",
       "      <td>Research &amp; Development</td>\n",
       "      <td>2</td>\n",
       "      <td>2</td>\n",
       "      <td>Other</td>\n",
       "      <td>1</td>\n",
       "      <td>4</td>\n",
       "      <td>...</td>\n",
       "      <td>2</td>\n",
       "      <td>80</td>\n",
       "      <td>0</td>\n",
       "      <td>7</td>\n",
       "      <td>3</td>\n",
       "      <td>3</td>\n",
       "      <td>0</td>\n",
       "      <td>0</td>\n",
       "      <td>0</td>\n",
       "      <td>0</td>\n",
       "    </tr>\n",
       "  </tbody>\n",
       "</table>\n",
       "<p>3 rows × 35 columns</p>\n",
       "</div>"
      ],
      "text/plain": [
       "   Age Attrition     BusinessTravel  DailyRate              Department  \\\n",
       "0   41       Yes      Travel_Rarely       1102                   Sales   \n",
       "1   49        No  Travel_Frequently        279  Research & Development   \n",
       "2   37       Yes      Travel_Rarely       1373  Research & Development   \n",
       "\n",
       "   DistanceFromHome  Education EducationField  EmployeeCount  EmployeeNumber  \\\n",
       "0                 1          2  Life Sciences              1               1   \n",
       "1                 8          1  Life Sciences              1               2   \n",
       "2                 2          2          Other              1               4   \n",
       "\n",
       "   ...  RelationshipSatisfaction StandardHours  StockOptionLevel  \\\n",
       "0  ...                         1            80                 0   \n",
       "1  ...                         4            80                 1   \n",
       "2  ...                         2            80                 0   \n",
       "\n",
       "   TotalWorkingYears  TrainingTimesLastYear WorkLifeBalance  YearsAtCompany  \\\n",
       "0                  8                      0               1               6   \n",
       "1                 10                      3               3              10   \n",
       "2                  7                      3               3               0   \n",
       "\n",
       "  YearsInCurrentRole  YearsSinceLastPromotion  YearsWithCurrManager  \n",
       "0                  4                        0                     5  \n",
       "1                  7                        1                     7  \n",
       "2                  0                        0                     0  \n",
       "\n",
       "[3 rows x 35 columns]"
      ]
     },
     "execution_count": 2,
     "metadata": {},
     "output_type": "execute_result"
    }
   ],
   "source": [
    "df.head(3)"
   ]
  },
  {
   "cell_type": "code",
   "execution_count": 3,
   "metadata": {},
   "outputs": [
    {
     "data": {
      "text/plain": [
       "Index(['Age', 'Attrition', 'BusinessTravel', 'DailyRate', 'Department',\n",
       "       'DistanceFromHome', 'Education', 'EducationField', 'EmployeeCount',\n",
       "       'EmployeeNumber', 'EnvironmentSatisfaction', 'Gender', 'HourlyRate',\n",
       "       'JobInvolvement', 'JobLevel', 'JobRole', 'JobSatisfaction',\n",
       "       'MaritalStatus', 'MonthlyIncome', 'MonthlyRate', 'NumCompaniesWorked',\n",
       "       'Over18', 'OverTime', 'PercentSalaryHike', 'PerformanceRating',\n",
       "       'RelationshipSatisfaction', 'StandardHours', 'StockOptionLevel',\n",
       "       'TotalWorkingYears', 'TrainingTimesLastYear', 'WorkLifeBalance',\n",
       "       'YearsAtCompany', 'YearsInCurrentRole', 'YearsSinceLastPromotion',\n",
       "       'YearsWithCurrManager'],\n",
       "      dtype='object')"
      ]
     },
     "execution_count": 3,
     "metadata": {},
     "output_type": "execute_result"
    }
   ],
   "source": [
    "df.columns"
   ]
  },
  {
   "cell_type": "code",
   "execution_count": 28,
   "metadata": {},
   "outputs": [
    {
     "data": {
      "text/plain": [
       "(1470, 35)"
      ]
     },
     "execution_count": 28,
     "metadata": {},
     "output_type": "execute_result"
    }
   ],
   "source": [
    "df.shape"
   ]
  },
  {
   "cell_type": "markdown",
   "metadata": {},
   "source": [
    "### Encode categorical variables"
   ]
  },
  {
   "cell_type": "code",
   "execution_count": 29,
   "metadata": {
    "colab": {},
    "colab_type": "code",
    "id": "RYLqq7WetK79"
   },
   "outputs": [],
   "source": [
    "df['Attrition'] = df['Attrition'].map({'Yes':1, 'No':0})"
   ]
  },
  {
   "cell_type": "code",
   "execution_count": 30,
   "metadata": {},
   "outputs": [],
   "source": [
    "df['OverTime'] = df['OverTime'].replace({'Yes': 1, 'No': 0})"
   ]
  },
  {
   "cell_type": "code",
   "execution_count": 31,
   "metadata": {},
   "outputs": [
    {
     "name": "stdout",
     "output_type": "stream",
     "text": [
      "1    1470\n",
      "Name: Over18, dtype: int64\n"
     ]
    }
   ],
   "source": [
    "df['Over18'] = df['Over18'].apply(lambda x:1 if x =='Y' else 0)\n",
    "print(df['Over18'].value_counts())"
   ]
  },
  {
   "cell_type": "markdown",
   "metadata": {},
   "source": [
    "####  It makes sense to drop 'EmployeeCount' , 'Standardhours' and 'Over18' since they do not change from one employee to the other\n",
    "####  Let's drop 'EmployeeNumber' as well"
   ]
  },
  {
   "cell_type": "code",
   "execution_count": 32,
   "metadata": {
    "colab": {},
    "colab_type": "code",
    "id": "BfDQRuNj4_b8"
   },
   "outputs": [],
   "source": [
    "df.drop(['EmployeeCount','StandardHours','Over18','EmployeeNumber'], axis=1, inplace=True)"
   ]
  },
  {
   "cell_type": "code",
   "execution_count": 33,
   "metadata": {
    "colab": {},
    "colab_type": "code",
    "id": "uBDltyUy5o1L"
   },
   "outputs": [
    {
     "data": {
      "application/javascript": [
       "\n",
       "        if (window._pyforest_update_imports_cell) { window._pyforest_update_imports_cell('import pandas as pd\\nimport seaborn as sns'); }\n",
       "    "
      ],
      "text/plain": [
       "<IPython.core.display.Javascript object>"
      ]
     },
     "metadata": {},
     "output_type": "display_data"
    },
    {
     "data": {
      "text/plain": [
       "<matplotlib.axes._subplots.AxesSubplot at 0x1e9d217d8d0>"
      ]
     },
     "execution_count": 33,
     "metadata": {},
     "output_type": "execute_result"
    },
    {
     "data": {
      "image/png": "[encoded data removed]",
      "text/plain": [
       "<Figure size 432x288 with 1 Axes>"
      ]
     },
     "metadata": {
      "needs_background": "light"
     },
     "output_type": "display_data"
    }
   ],
   "source": [
    "# Count the number of employees who stayed and left\n",
    "# It seems that we are dealing with an imbalanced dataset \n",
    "sns.countplot(x='Attrition', data = df)"
   ]
  },
  {
   "cell_type": "markdown",
   "metadata": {},
   "source": [
    "Note, as the graph shows, the dataset is unbalanced. When training models on such datasets, class unbalance influences a learning algorithm during training by making decision rule biased towards the majority class and optimizes the predictions based on the majority class in the dataset. There are are a number of ways to deal with this issue - check out model section"
   ]
  },
  {
   "cell_type": "markdown",
   "metadata": {
    "colab_type": "text",
    "id": "Y0GmpAjG3GiH"
   },
   "source": [
    "**Categorical variables**"
   ]
  },
  {
   "cell_type": "code",
   "execution_count": 34,
   "metadata": {},
   "outputs": [
    {
     "data": {
      "text/plain": [
       "['BusinessTravel',\n",
       " 'Department',\n",
       " 'EducationField',\n",
       " 'Gender',\n",
       " 'JobRole',\n",
       " 'MaritalStatus']"
      ]
     },
     "execution_count": 34,
     "metadata": {},
     "output_type": "execute_result"
    }
   ],
   "source": [
    "vars_cat = [var for var in df.columns if df[var].dtypes == 'O']\n",
    "vars_cat"
   ]
  },
  {
   "cell_type": "code",
   "execution_count": 35,
   "metadata": {},
   "outputs": [
    {
     "name": "stdout",
     "output_type": "stream",
     "text": [
      "BusinessTravel\n",
      "3\n",
      "['Travel_Rarely' 'Travel_Frequently' 'Non-Travel']\n",
      "\n",
      "Department\n",
      "3\n",
      "['Sales' 'Research & Development' 'Human Resources']\n",
      "\n",
      "EducationField\n",
      "6\n",
      "['Life Sciences' 'Other' 'Medical' 'Marketing' 'Technical Degree'\n",
      " 'Human Resources']\n",
      "\n",
      "Gender\n",
      "2\n",
      "['Female' 'Male']\n",
      "\n",
      "JobRole\n",
      "9\n",
      "['Sales Executive' 'Research Scientist' 'Laboratory Technician'\n",
      " 'Manufacturing Director' 'Healthcare Representative' 'Manager'\n",
      " 'Sales Representative' 'Research Director' 'Human Resources']\n",
      "\n",
      "MaritalStatus\n",
      "3\n",
      "['Single' 'Married' 'Divorced']\n",
      "\n"
     ]
    }
   ],
   "source": [
    "for var in vars_cat:\n",
    "    print(var)\n",
    "    print(df[var].nunique())\n",
    "    print(df[var].unique())\n",
    "    print()"
   ]
  },
  {
   "cell_type": "code",
   "execution_count": 36,
   "metadata": {},
   "outputs": [
    {
     "data": {
      "application/javascript": [
       "\n",
       "        if (window._pyforest_update_imports_cell) { window._pyforest_update_imports_cell('import pandas as pd\\nimport seaborn as sns'); }\n",
       "    "
      ],
      "text/plain": [
       "<IPython.core.display.Javascript object>"
      ]
     },
     "metadata": {},
     "output_type": "display_data"
    },
    {
     "data": {
      "application/javascript": [
       "\n",
       "        if (window._pyforest_update_imports_cell) { window._pyforest_update_imports_cell('import pandas as pd\\nimport seaborn as sns'); }\n",
       "    "
      ],
      "text/plain": [
       "<IPython.core.display.Javascript object>"
      ]
     },
     "metadata": {},
     "output_type": "display_data"
    },
    {
     "data": {
      "application/javascript": [
       "\n",
       "        if (window._pyforest_update_imports_cell) { window._pyforest_update_imports_cell('import pandas as pd\\nimport seaborn as sns'); }\n",
       "    "
      ],
      "text/plain": [
       "<IPython.core.display.Javascript object>"
      ]
     },
     "metadata": {},
     "output_type": "display_data"
    },
    {
     "data": {
      "application/javascript": [
       "\n",
       "        if (window._pyforest_update_imports_cell) { window._pyforest_update_imports_cell('import pandas as pd\\nimport seaborn as sns'); }\n",
       "    "
      ],
      "text/plain": [
       "<IPython.core.display.Javascript object>"
      ]
     },
     "metadata": {},
     "output_type": "display_data"
    },
    {
     "data": {
      "application/javascript": [
       "\n",
       "        if (window._pyforest_update_imports_cell) { window._pyforest_update_imports_cell('import pandas as pd\\nimport seaborn as sns'); }\n",
       "    "
      ],
      "text/plain": [
       "<IPython.core.display.Javascript object>"
      ]
     },
     "metadata": {},
     "output_type": "display_data"
    },
    {
     "data": {
      "application/javascript": [
       "\n",
       "        if (window._pyforest_update_imports_cell) { window._pyforest_update_imports_cell('import pandas as pd\\nimport seaborn as sns'); }\n",
       "    "
      ],
      "text/plain": [
       "<IPython.core.display.Javascript object>"
      ]
     },
     "metadata": {},
     "output_type": "display_data"
    },
    {
     "data": {
      "application/javascript": [
       "\n",
       "        if (window._pyforest_update_imports_cell) { window._pyforest_update_imports_cell('import pandas as pd\\nimport seaborn as sns'); }\n",
       "    "
      ],
      "text/plain": [
       "<IPython.core.display.Javascript object>"
      ]
     },
     "metadata": {},
     "output_type": "display_data"
    },
    {
     "data": {
      "application/javascript": [
       "\n",
       "        if (window._pyforest_update_imports_cell) { window._pyforest_update_imports_cell('import pandas as pd\\nimport seaborn as sns'); }\n",
       "    "
      ],
      "text/plain": [
       "<IPython.core.display.Javascript object>"
      ]
     },
     "metadata": {},
     "output_type": "display_data"
    },
    {
     "data": {
      "application/javascript": [
       "\n",
       "        if (window._pyforest_update_imports_cell) { window._pyforest_update_imports_cell('import pandas as pd\\nimport seaborn as sns'); }\n",
       "    "
      ],
      "text/plain": [
       "<IPython.core.display.Javascript object>"
      ]
     },
     "metadata": {},
     "output_type": "display_data"
    },
    {
     "data": {
      "application/javascript": [
       "\n",
       "        if (window._pyforest_update_imports_cell) { window._pyforest_update_imports_cell('import pandas as pd\\nimport seaborn as sns'); }\n",
       "    "
      ],
      "text/plain": [
       "<IPython.core.display.Javascript object>"
      ]
     },
     "metadata": {},
     "output_type": "display_data"
    },
    {
     "data": {
      "application/javascript": [
       "\n",
       "        if (window._pyforest_update_imports_cell) { window._pyforest_update_imports_cell('import pandas as pd\\nimport seaborn as sns'); }\n",
       "    "
      ],
      "text/plain": [
       "<IPython.core.display.Javascript object>"
      ]
     },
     "metadata": {},
     "output_type": "display_data"
    },
    {
     "data": {
      "application/javascript": [
       "\n",
       "        if (window._pyforest_update_imports_cell) { window._pyforest_update_imports_cell('import pandas as pd\\nimport seaborn as sns'); }\n",
       "    "
      ],
      "text/plain": [
       "<IPython.core.display.Javascript object>"
      ]
     },
     "metadata": {},
     "output_type": "display_data"
    }
   ],
   "source": [
    "# Encode Categorical features\n",
    "for var in vars_cat:\n",
    "    df =  pd.concat([df, pd.get_dummies(df[var], prefix=var, drop_first=True)], axis=1)\n",
    "df.drop(labels=vars_cat, axis=1, inplace=True)"
   ]
  },
  {
   "cell_type": "code",
   "execution_count": 14,
   "metadata": {},
   "outputs": [
    {
     "data": {
      "text/html": [
       "<div>\n",
       "<style scoped>\n",
       "    .dataframe tbody tr th:only-of-type {\n",
       "        vertical-align: middle;\n",
       "    }\n",
       "\n",
       "    .dataframe tbody tr th {\n",
       "        vertical-align: top;\n",
       "    }\n",
       "\n",
       "    .dataframe thead th {\n",
       "        text-align: right;\n",
       "    }\n",
       "</style>\n",
       "<table border=\"1\" class=\"dataframe\">\n",
       "  <thead>\n",
       "    <tr style=\"text-align: right;\">\n",
       "      <th></th>\n",
       "      <th>Age</th>\n",
       "      <th>Attrition</th>\n",
       "      <th>DailyRate</th>\n",
       "      <th>DistanceFromHome</th>\n",
       "      <th>Education</th>\n",
       "      <th>EnvironmentSatisfaction</th>\n",
       "      <th>HourlyRate</th>\n",
       "      <th>JobInvolvement</th>\n",
       "      <th>JobLevel</th>\n",
       "      <th>JobSatisfaction</th>\n",
       "      <th>...</th>\n",
       "      <th>JobRole_Human Resources</th>\n",
       "      <th>JobRole_Laboratory Technician</th>\n",
       "      <th>JobRole_Manager</th>\n",
       "      <th>JobRole_Manufacturing Director</th>\n",
       "      <th>JobRole_Research Director</th>\n",
       "      <th>JobRole_Research Scientist</th>\n",
       "      <th>JobRole_Sales Executive</th>\n",
       "      <th>JobRole_Sales Representative</th>\n",
       "      <th>MaritalStatus_Married</th>\n",
       "      <th>MaritalStatus_Single</th>\n",
       "    </tr>\n",
       "  </thead>\n",
       "  <tbody>\n",
       "    <tr>\n",
       "      <th>0</th>\n",
       "      <td>41</td>\n",
       "      <td>1</td>\n",
       "      <td>1102</td>\n",
       "      <td>1</td>\n",
       "      <td>2</td>\n",
       "      <td>2</td>\n",
       "      <td>94</td>\n",
       "      <td>3</td>\n",
       "      <td>2</td>\n",
       "      <td>4</td>\n",
       "      <td>...</td>\n",
       "      <td>0</td>\n",
       "      <td>0</td>\n",
       "      <td>0</td>\n",
       "      <td>0</td>\n",
       "      <td>0</td>\n",
       "      <td>0</td>\n",
       "      <td>1</td>\n",
       "      <td>0</td>\n",
       "      <td>0</td>\n",
       "      <td>1</td>\n",
       "    </tr>\n",
       "    <tr>\n",
       "      <th>1</th>\n",
       "      <td>49</td>\n",
       "      <td>0</td>\n",
       "      <td>279</td>\n",
       "      <td>8</td>\n",
       "      <td>1</td>\n",
       "      <td>3</td>\n",
       "      <td>61</td>\n",
       "      <td>2</td>\n",
       "      <td>2</td>\n",
       "      <td>2</td>\n",
       "      <td>...</td>\n",
       "      <td>0</td>\n",
       "      <td>0</td>\n",
       "      <td>0</td>\n",
       "      <td>0</td>\n",
       "      <td>0</td>\n",
       "      <td>1</td>\n",
       "      <td>0</td>\n",
       "      <td>0</td>\n",
       "      <td>1</td>\n",
       "      <td>0</td>\n",
       "    </tr>\n",
       "    <tr>\n",
       "      <th>2</th>\n",
       "      <td>37</td>\n",
       "      <td>1</td>\n",
       "      <td>1373</td>\n",
       "      <td>2</td>\n",
       "      <td>2</td>\n",
       "      <td>4</td>\n",
       "      <td>92</td>\n",
       "      <td>2</td>\n",
       "      <td>1</td>\n",
       "      <td>3</td>\n",
       "      <td>...</td>\n",
       "      <td>0</td>\n",
       "      <td>1</td>\n",
       "      <td>0</td>\n",
       "      <td>0</td>\n",
       "      <td>0</td>\n",
       "      <td>0</td>\n",
       "      <td>0</td>\n",
       "      <td>0</td>\n",
       "      <td>0</td>\n",
       "      <td>1</td>\n",
       "    </tr>\n",
       "    <tr>\n",
       "      <th>3</th>\n",
       "      <td>33</td>\n",
       "      <td>0</td>\n",
       "      <td>1392</td>\n",
       "      <td>3</td>\n",
       "      <td>4</td>\n",
       "      <td>4</td>\n",
       "      <td>56</td>\n",
       "      <td>3</td>\n",
       "      <td>1</td>\n",
       "      <td>3</td>\n",
       "      <td>...</td>\n",
       "      <td>0</td>\n",
       "      <td>0</td>\n",
       "      <td>0</td>\n",
       "      <td>0</td>\n",
       "      <td>0</td>\n",
       "      <td>1</td>\n",
       "      <td>0</td>\n",
       "      <td>0</td>\n",
       "      <td>1</td>\n",
       "      <td>0</td>\n",
       "    </tr>\n",
       "    <tr>\n",
       "      <th>4</th>\n",
       "      <td>27</td>\n",
       "      <td>0</td>\n",
       "      <td>591</td>\n",
       "      <td>2</td>\n",
       "      <td>1</td>\n",
       "      <td>1</td>\n",
       "      <td>40</td>\n",
       "      <td>3</td>\n",
       "      <td>1</td>\n",
       "      <td>2</td>\n",
       "      <td>...</td>\n",
       "      <td>0</td>\n",
       "      <td>1</td>\n",
       "      <td>0</td>\n",
       "      <td>0</td>\n",
       "      <td>0</td>\n",
       "      <td>0</td>\n",
       "      <td>0</td>\n",
       "      <td>0</td>\n",
       "      <td>1</td>\n",
       "      <td>0</td>\n",
       "    </tr>\n",
       "  </tbody>\n",
       "</table>\n",
       "<p>5 rows × 45 columns</p>\n",
       "</div>"
      ],
      "text/plain": [
       "   Age  Attrition  DailyRate  DistanceFromHome  Education  \\\n",
       "0   41          1       1102                 1          2   \n",
       "1   49          0        279                 8          1   \n",
       "2   37          1       1373                 2          2   \n",
       "3   33          0       1392                 3          4   \n",
       "4   27          0        591                 2          1   \n",
       "\n",
       "   EnvironmentSatisfaction  HourlyRate  JobInvolvement  JobLevel  \\\n",
       "0                        2          94               3         2   \n",
       "1                        3          61               2         2   \n",
       "2                        4          92               2         1   \n",
       "3                        4          56               3         1   \n",
       "4                        1          40               3         1   \n",
       "\n",
       "   JobSatisfaction  ...  JobRole_Human Resources  \\\n",
       "0                4  ...                        0   \n",
       "1                2  ...                        0   \n",
       "2                3  ...                        0   \n",
       "3                3  ...                        0   \n",
       "4                2  ...                        0   \n",
       "\n",
       "   JobRole_Laboratory Technician  JobRole_Manager  \\\n",
       "0                              0                0   \n",
       "1                              0                0   \n",
       "2                              1                0   \n",
       "3                              0                0   \n",
       "4                              1                0   \n",
       "\n",
       "   JobRole_Manufacturing Director  JobRole_Research Director  \\\n",
       "0                               0                          0   \n",
       "1                               0                          0   \n",
       "2                               0                          0   \n",
       "3                               0                          0   \n",
       "4                               0                          0   \n",
       "\n",
       "   JobRole_Research Scientist  JobRole_Sales Executive  \\\n",
       "0                           0                        1   \n",
       "1                           1                        0   \n",
       "2                           0                        0   \n",
       "3                           1                        0   \n",
       "4                           0                        0   \n",
       "\n",
       "   JobRole_Sales Representative  MaritalStatus_Married  MaritalStatus_Single  \n",
       "0                             0                      0                     1  \n",
       "1                             0                      1                     0  \n",
       "2                             0                      0                     1  \n",
       "3                             0                      1                     0  \n",
       "4                             0                      1                     0  \n",
       "\n",
       "[5 rows x 45 columns]"
      ]
     },
     "execution_count": 14,
     "metadata": {},
     "output_type": "execute_result"
    }
   ],
   "source": [
    "df.head()"
   ]
  },
  {
   "cell_type": "markdown",
   "metadata": {},
   "source": [
    "#### Lets remove the following:\n",
    "\n",
    "- Monthly Rate & Daily Rate - not a significant predictor and hard to interpret\n",
    "\n",
    "- Job Level - highly correlated with Monthly Income"
   ]
  },
  {
   "cell_type": "code",
   "execution_count": 37,
   "metadata": {},
   "outputs": [],
   "source": [
    "df.drop(['MonthlyRate', 'JobLevel', 'DailyRate'], axis=1, inplace=True)"
   ]
  },
  {
   "cell_type": "code",
   "execution_count": 38,
   "metadata": {},
   "outputs": [],
   "source": [
    "y = df['Attrition']"
   ]
  },
  {
   "cell_type": "code",
   "execution_count": 39,
   "metadata": {},
   "outputs": [],
   "source": [
    "X = df.drop('Attrition', axis=1)"
   ]
  },
  {
   "cell_type": "markdown",
   "metadata": {},
   "source": [
    "### Scale the data"
   ]
  },
  {
   "cell_type": "code",
   "execution_count": 40,
   "metadata": {},
   "outputs": [],
   "source": [
    "from sklearn.preprocessing import MinMaxScaler"
   ]
  },
  {
   "cell_type": "code",
   "execution_count": 41,
   "metadata": {},
   "outputs": [],
   "source": [
    "scaler = MinMaxScaler()"
   ]
  },
  {
   "cell_type": "code",
   "execution_count": 42,
   "metadata": {},
   "outputs": [],
   "source": [
    "X = scaler.fit_transform(X)"
   ]
  },
  {
   "cell_type": "markdown",
   "metadata": {},
   "source": [
    "### Split the data"
   ]
  },
  {
   "cell_type": "code",
   "execution_count": 43,
   "metadata": {
    "colab": {},
    "colab_type": "code",
    "id": "_2iF77wCu79A"
   },
   "outputs": [],
   "source": [
    "from sklearn.metrics import accuracy_score\n",
    "from sklearn.metrics import confusion_matrix, classification_report"
   ]
  },
  {
   "cell_type": "code",
   "execution_count": 44,
   "metadata": {
    "colab": {},
    "colab_type": "code",
    "id": "RgFq3h993cIz"
   },
   "outputs": [],
   "source": [
    "from sklearn.model_selection import train_test_split"
   ]
  },
  {
   "cell_type": "code",
   "execution_count": 45,
   "metadata": {
    "colab": {},
    "colab_type": "code",
    "id": "d4wfApza3cEc"
   },
   "outputs": [],
   "source": [
    "X_train, X_test, y_train, y_test = train_test_split(X, y, test_size=0.25, random_state=42)"
   ]
  },
  {
   "cell_type": "markdown",
   "metadata": {},
   "source": [
    "### TRAIN AND EVALUATE THE FOLLOWING MODELS:\n",
    "\n",
    "- Logistic Regression\n",
    "- Random Forest\n",
    "- Deep Learning (with tensorflow)\n",
    "- XGB Classifier"
   ]
  },
  {
   "cell_type": "markdown",
   "metadata": {
    "colab_type": "text",
    "id": "otudfveOME9P"
   },
   "source": [
    "### TRAIN AND EVALUATE A LOGISTIC REGRESSION CLASSIFIER\n"
   ]
  },
  {
   "cell_type": "code",
   "execution_count": 46,
   "metadata": {
    "colab": {},
    "colab_type": "code",
    "id": "jDj4uNvjNWkK"
   },
   "outputs": [],
   "source": [
    "from sklearn.linear_model import LogisticRegression"
   ]
  },
  {
   "cell_type": "code",
   "execution_count": 47,
   "metadata": {
    "colab": {},
    "colab_type": "code",
    "id": "7mlqam98MgCG"
   },
   "outputs": [
    {
     "data": {
      "text/plain": [
       "LogisticRegression()"
      ]
     },
     "execution_count": 47,
     "metadata": {},
     "output_type": "execute_result"
    }
   ],
   "source": [
    "md_LR = LogisticRegression()\n",
    "md_LR.fit(X_train, y_train)"
   ]
  },
  {
   "cell_type": "code",
   "execution_count": 48,
   "metadata": {},
   "outputs": [],
   "source": [
    "# Predicting the Test Data and Evaluation\n",
    "y_pred = md_LR.predict(X_test)"
   ]
  },
  {
   "cell_type": "code",
   "execution_count": 50,
   "metadata": {},
   "outputs": [
    {
     "name": "stdout",
     "output_type": "stream",
     "text": [
      "Accuracy 89.67391304347827 %\n"
     ]
    }
   ],
   "source": [
    "print('Accuracy {} %'.format(100 * accuracy_score(y_pred, y_test)))"
   ]
  },
  {
   "cell_type": "code",
   "execution_count": 51,
   "metadata": {},
   "outputs": [
    {
     "data": {
      "text/plain": [
       "array([[312,   8],\n",
       "       [ 30,  18]], dtype=int64)"
      ]
     },
     "execution_count": 51,
     "metadata": {},
     "output_type": "execute_result"
    }
   ],
   "source": [
    "confusion_matrix(y_true=y_test, y_pred=y_pred)"
   ]
  },
  {
   "cell_type": "code",
   "execution_count": 52,
   "metadata": {},
   "outputs": [
    {
     "data": {
      "application/javascript": [
       "\n",
       "        if (window._pyforest_update_imports_cell) { window._pyforest_update_imports_cell('import pandas as pd\\nimport seaborn as sns'); }\n",
       "    "
      ],
      "text/plain": [
       "<IPython.core.display.Javascript object>"
      ]
     },
     "metadata": {},
     "output_type": "display_data"
    },
    {
     "data": {
      "application/javascript": [
       "\n",
       "        if (window._pyforest_update_imports_cell) { window._pyforest_update_imports_cell('import pandas as pd\\nimport matplotlib.pyplot as plt\\nimport seaborn as sns'); }\n",
       "    "
      ],
      "text/plain": [
       "<IPython.core.display.Javascript object>"
      ]
     },
     "metadata": {},
     "output_type": "display_data"
    },
    {
     "data": {
      "text/plain": [
       "(5, 0)"
      ]
     },
     "execution_count": 52,
     "metadata": {},
     "output_type": "execute_result"
    },
    {
     "data": {
      "image/png": "[encoded data removed]",
      "text/plain": [
       "<Figure size 432x288 with 1 Axes>"
      ]
     },
     "metadata": {
      "needs_background": "light"
     },
     "output_type": "display_data"
    }
   ],
   "source": [
    "sns.heatmap(confusion_matrix(y_true=y_test, y_pred=y_pred), annot=True, cbar=False)\n",
    "plt.ylim(5,0)"
   ]
  },
  {
   "cell_type": "code",
   "execution_count": 53,
   "metadata": {},
   "outputs": [
    {
     "name": "stdout",
     "output_type": "stream",
     "text": [
      "              precision    recall  f1-score   support\n",
      "\n",
      "           0       0.91      0.97      0.94       320\n",
      "           1       0.69      0.38      0.49        48\n",
      "\n",
      "    accuracy                           0.90       368\n",
      "   macro avg       0.80      0.68      0.71       368\n",
      "weighted avg       0.88      0.90      0.88       368\n",
      "\n"
     ]
    }
   ],
   "source": [
    "print(classification_report(y_test,y_pred))"
   ]
  },
  {
   "cell_type": "code",
   "execution_count": 55,
   "metadata": {},
   "outputs": [
    {
     "name": "stdout",
     "output_type": "stream",
     "text": [
      "[-0.99622465  0.90555598  0.21655525 -0.9524457   0.03257181 -1.27142455\n",
      " -0.9847983  -0.35731469  1.38579564  1.86217874 -0.01659159 -0.15735813\n",
      " -0.43526164 -0.56695184 -1.1954722  -0.66592863 -0.67872988  0.81850961\n",
      " -1.60336103  1.53114875 -1.03709107  1.3798369   0.72477849 -0.57276673\n",
      "  0.30461499 -0.45352206 -0.06536155 -0.41191865 -0.49646605  0.39782519\n",
      "  0.41138704  0.63987565  1.40872279 -0.06742987  0.12699615 -0.53154507\n",
      "  0.4567336  -0.0436646   0.88138129  0.19481618  1.08741525]\n"
     ]
    }
   ],
   "source": [
    "print(md_LR.coef_[0])"
   ]
  },
  {
   "cell_type": "code",
   "execution_count": 56,
   "metadata": {},
   "outputs": [],
   "source": [
    "# generate oindex for graphs\n",
    "df_index = df.drop('Attrition', axis=1)"
   ]
  },
  {
   "cell_type": "code",
   "execution_count": 57,
   "metadata": {},
   "outputs": [
    {
     "data": {
      "application/javascript": [
       "\n",
       "        if (window._pyforest_update_imports_cell) { window._pyforest_update_imports_cell('import pandas as pd\\nimport matplotlib.pyplot as plt\\nimport seaborn as sns'); }\n",
       "    "
      ],
      "text/plain": [
       "<IPython.core.display.Javascript object>"
      ]
     },
     "metadata": {},
     "output_type": "display_data"
    },
    {
     "data": {
      "text/plain": [
       "<matplotlib.axes._subplots.AxesSubplot at 0x1e9e560b6a0>"
      ]
     },
     "execution_count": 57,
     "metadata": {},
     "output_type": "execute_result"
    },
    {
     "data": {
      "image/png": "[encoded data removed]",
      "text/plain": [
       "<Figure size 1440x720 with 1 Axes>"
      ]
     },
     "metadata": {
      "needs_background": "light"
     },
     "output_type": "display_data"
    }
   ],
   "source": [
    "importance = pd.DataFrame(data= md_LR.coef_[0], index=df_index.columns, columns=['Importance'])\n",
    "importance.sort_values('Importance',ascending=False).plot.bar(figsize=(20,10))"
   ]
  },
  {
   "cell_type": "code",
   "execution_count": 58,
   "metadata": {},
   "outputs": [
    {
     "data": {
      "text/html": [
       "<div>\n",
       "<style scoped>\n",
       "    .dataframe tbody tr th:only-of-type {\n",
       "        vertical-align: middle;\n",
       "    }\n",
       "\n",
       "    .dataframe tbody tr th {\n",
       "        vertical-align: top;\n",
       "    }\n",
       "\n",
       "    .dataframe thead th {\n",
       "        text-align: right;\n",
       "    }\n",
       "</style>\n",
       "<table border=\"1\" class=\"dataframe\">\n",
       "  <thead>\n",
       "    <tr style=\"text-align: right;\">\n",
       "      <th></th>\n",
       "      <th>Importance</th>\n",
       "    </tr>\n",
       "  </thead>\n",
       "  <tbody>\n",
       "    <tr>\n",
       "      <th>OverTime</th>\n",
       "      <td>1.862179</td>\n",
       "    </tr>\n",
       "    <tr>\n",
       "      <th>YearsInCurrentRole</th>\n",
       "      <td>1.603361</td>\n",
       "    </tr>\n",
       "    <tr>\n",
       "      <th>YearsSinceLastPromotion</th>\n",
       "      <td>1.531149</td>\n",
       "    </tr>\n",
       "    <tr>\n",
       "      <th>JobRole_Laboratory Technician</th>\n",
       "      <td>1.408723</td>\n",
       "    </tr>\n",
       "    <tr>\n",
       "      <th>NumCompaniesWorked</th>\n",
       "      <td>1.385796</td>\n",
       "    </tr>\n",
       "    <tr>\n",
       "      <th>BusinessTravel_Travel_Frequently</th>\n",
       "      <td>1.379837</td>\n",
       "    </tr>\n",
       "    <tr>\n",
       "      <th>JobInvolvement</th>\n",
       "      <td>1.271425</td>\n",
       "    </tr>\n",
       "    <tr>\n",
       "      <th>TotalWorkingYears</th>\n",
       "      <td>1.195472</td>\n",
       "    </tr>\n",
       "    <tr>\n",
       "      <th>MaritalStatus_Single</th>\n",
       "      <td>1.087415</td>\n",
       "    </tr>\n",
       "    <tr>\n",
       "      <th>YearsWithCurrManager</th>\n",
       "      <td>1.037091</td>\n",
       "    </tr>\n",
       "    <tr>\n",
       "      <th>Age</th>\n",
       "      <td>0.996225</td>\n",
       "    </tr>\n",
       "    <tr>\n",
       "      <th>JobSatisfaction</th>\n",
       "      <td>0.984798</td>\n",
       "    </tr>\n",
       "    <tr>\n",
       "      <th>EnvironmentSatisfaction</th>\n",
       "      <td>0.952446</td>\n",
       "    </tr>\n",
       "    <tr>\n",
       "      <th>DistanceFromHome</th>\n",
       "      <td>0.905556</td>\n",
       "    </tr>\n",
       "    <tr>\n",
       "      <th>JobRole_Sales Representative</th>\n",
       "      <td>0.881381</td>\n",
       "    </tr>\n",
       "    <tr>\n",
       "      <th>YearsAtCompany</th>\n",
       "      <td>0.818510</td>\n",
       "    </tr>\n",
       "    <tr>\n",
       "      <th>BusinessTravel_Travel_Rarely</th>\n",
       "      <td>0.724778</td>\n",
       "    </tr>\n",
       "    <tr>\n",
       "      <th>WorkLifeBalance</th>\n",
       "      <td>0.678730</td>\n",
       "    </tr>\n",
       "    <tr>\n",
       "      <th>TrainingTimesLastYear</th>\n",
       "      <td>0.665929</td>\n",
       "    </tr>\n",
       "    <tr>\n",
       "      <th>JobRole_Human Resources</th>\n",
       "      <td>0.639876</td>\n",
       "    </tr>\n",
       "    <tr>\n",
       "      <th>Department_Research &amp; Development</th>\n",
       "      <td>0.572767</td>\n",
       "    </tr>\n",
       "    <tr>\n",
       "      <th>StockOptionLevel</th>\n",
       "      <td>0.566952</td>\n",
       "    </tr>\n",
       "    <tr>\n",
       "      <th>JobRole_Research Director</th>\n",
       "      <td>0.531545</td>\n",
       "    </tr>\n",
       "    <tr>\n",
       "      <th>EducationField_Other</th>\n",
       "      <td>0.496466</td>\n",
       "    </tr>\n",
       "    <tr>\n",
       "      <th>JobRole_Research Scientist</th>\n",
       "      <td>0.456734</td>\n",
       "    </tr>\n",
       "    <tr>\n",
       "      <th>EducationField_Life Sciences</th>\n",
       "      <td>0.453522</td>\n",
       "    </tr>\n",
       "    <tr>\n",
       "      <th>RelationshipSatisfaction</th>\n",
       "      <td>0.435262</td>\n",
       "    </tr>\n",
       "    <tr>\n",
       "      <th>EducationField_Medical</th>\n",
       "      <td>0.411919</td>\n",
       "    </tr>\n",
       "    <tr>\n",
       "      <th>Gender_Male</th>\n",
       "      <td>0.411387</td>\n",
       "    </tr>\n",
       "    <tr>\n",
       "      <th>EducationField_Technical Degree</th>\n",
       "      <td>0.397825</td>\n",
       "    </tr>\n",
       "    <tr>\n",
       "      <th>MonthlyIncome</th>\n",
       "      <td>0.357315</td>\n",
       "    </tr>\n",
       "    <tr>\n",
       "      <th>Department_Sales</th>\n",
       "      <td>0.304615</td>\n",
       "    </tr>\n",
       "    <tr>\n",
       "      <th>Education</th>\n",
       "      <td>0.216555</td>\n",
       "    </tr>\n",
       "    <tr>\n",
       "      <th>MaritalStatus_Married</th>\n",
       "      <td>0.194816</td>\n",
       "    </tr>\n",
       "    <tr>\n",
       "      <th>PerformanceRating</th>\n",
       "      <td>0.157358</td>\n",
       "    </tr>\n",
       "    <tr>\n",
       "      <th>JobRole_Manufacturing Director</th>\n",
       "      <td>0.126996</td>\n",
       "    </tr>\n",
       "    <tr>\n",
       "      <th>JobRole_Manager</th>\n",
       "      <td>0.067430</td>\n",
       "    </tr>\n",
       "    <tr>\n",
       "      <th>EducationField_Marketing</th>\n",
       "      <td>0.065362</td>\n",
       "    </tr>\n",
       "    <tr>\n",
       "      <th>JobRole_Sales Executive</th>\n",
       "      <td>0.043665</td>\n",
       "    </tr>\n",
       "    <tr>\n",
       "      <th>HourlyRate</th>\n",
       "      <td>0.032572</td>\n",
       "    </tr>\n",
       "    <tr>\n",
       "      <th>PercentSalaryHike</th>\n",
       "      <td>0.016592</td>\n",
       "    </tr>\n",
       "  </tbody>\n",
       "</table>\n",
       "</div>"
      ],
      "text/plain": [
       "                                   Importance\n",
       "OverTime                             1.862179\n",
       "YearsInCurrentRole                   1.603361\n",
       "YearsSinceLastPromotion              1.531149\n",
       "JobRole_Laboratory Technician        1.408723\n",
       "NumCompaniesWorked                   1.385796\n",
       "BusinessTravel_Travel_Frequently     1.379837\n",
       "JobInvolvement                       1.271425\n",
       "TotalWorkingYears                    1.195472\n",
       "MaritalStatus_Single                 1.087415\n",
       "YearsWithCurrManager                 1.037091\n",
       "Age                                  0.996225\n",
       "JobSatisfaction                      0.984798\n",
       "EnvironmentSatisfaction              0.952446\n",
       "DistanceFromHome                     0.905556\n",
       "JobRole_Sales Representative         0.881381\n",
       "YearsAtCompany                       0.818510\n",
       "BusinessTravel_Travel_Rarely         0.724778\n",
       "WorkLifeBalance                      0.678730\n",
       "TrainingTimesLastYear                0.665929\n",
       "JobRole_Human Resources              0.639876\n",
       "Department_Research & Development    0.572767\n",
       "StockOptionLevel                     0.566952\n",
       "JobRole_Research Director            0.531545\n",
       "EducationField_Other                 0.496466\n",
       "JobRole_Research Scientist           0.456734\n",
       "EducationField_Life Sciences         0.453522\n",
       "RelationshipSatisfaction             0.435262\n",
       "EducationField_Medical               0.411919\n",
       "Gender_Male                          0.411387\n",
       "EducationField_Technical Degree      0.397825\n",
       "MonthlyIncome                        0.357315\n",
       "Department_Sales                     0.304615\n",
       "Education                            0.216555\n",
       "MaritalStatus_Married                0.194816\n",
       "PerformanceRating                    0.157358\n",
       "JobRole_Manufacturing Director       0.126996\n",
       "JobRole_Manager                      0.067430\n",
       "EducationField_Marketing             0.065362\n",
       "JobRole_Sales Executive              0.043665\n",
       "HourlyRate                           0.032572\n",
       "PercentSalaryHike                    0.016592"
      ]
     },
     "execution_count": 58,
     "metadata": {},
     "output_type": "execute_result"
    }
   ],
   "source": [
    "# List Absolute values \n",
    "abs(importance).sort_values('Importance',ascending=False)"
   ]
  },
  {
   "cell_type": "code",
   "execution_count": 59,
   "metadata": {},
   "outputs": [
    {
     "data": {
      "text/plain": [
       "<matplotlib.axes._subplots.AxesSubplot at 0x1e9e4f21320>"
      ]
     },
     "execution_count": 59,
     "metadata": {},
     "output_type": "execute_result"
    },
    {
     "data": {
      "image/png": "[encoded data removed]",
      "text/plain": [
       "<Figure size 1440x720 with 1 Axes>"
      ]
     },
     "metadata": {
      "needs_background": "light"
     },
     "output_type": "display_data"
    }
   ],
   "source": [
    "# Graph absolute values\n",
    "abs(importance).sort_values('Importance',ascending=False).plot.bar(figsize=(20,10))"
   ]
  },
  {
   "cell_type": "markdown",
   "metadata": {},
   "source": [
    "#### Applying SMOTE"
   ]
  },
  {
   "cell_type": "markdown",
   "metadata": {},
   "source": [
    "Accuracy is not a useful metric for imbalanced datasets because the model can simply learn to predict the majority class most of the time. The models are biased towards 0 and are not predicting any 1. This is because the model is giving prominence to only 0. This is a common problem in imbalanced datasets.\n",
    "\n",
    "Although the accuracy is relatively high considering (0.90), if we look at the classification report we can see the accuracy for employees leaving (1) is very low particularly for recall and f1-score.\n",
    "\n",
    " precision  /  recall / f1-score /  support\n",
    "\n",
    "           0       0.91      0.97      0.94       320\n",
    "           1       0.69      0.38      0.49        48\n",
    "\n",
    "We have an unbalanced dataset so we can increase the number of samples for empolyees who left the Co.\n",
    "\n",
    "This can be solved by under sampling or over sampling. In undersampling we may lose important data that may be required for creating rules. Hence we will do over sampling. For all the models we will use a technique called SMOTE (Synthetic Minority oversampling technique) which will create duplicate points for target 1 which will be close to the existing ones and solve the imbalance.\n",
    "\n",
    "(SMOTE: Synthetic Minority Over-sampling Technique. This method creates synthetic samples of your data, so rather than taking copies of observations, SMOTE uses a distance measure to create synthetic samples of data points that would not be far from your data points)\n",
    "\n",
    "You can read more at https://towardsdatascience.com/dealing-with-imbalanced-data-in-churn-analysis-6ea1afba8b5e"
   ]
  },
  {
   "cell_type": "code",
   "execution_count": 69,
   "metadata": {},
   "outputs": [],
   "source": [
    "import sklearn"
   ]
  },
  {
   "cell_type": "code",
   "execution_count": 70,
   "metadata": {},
   "outputs": [],
   "source": [
    "# We have an unbalanced dataset so we can increase the number of samples for empolyees who left the Co.\n",
    "# pip install -U imbalanced-learn # PyPI\n",
    "# conda install -c conda-forge imbalanced-learn # Anaconda\n",
    "from imblearn.over_sampling import SMOTE\n",
    "\n",
    "# import imblearn.over_sampling"
   ]
  },
  {
   "cell_type": "code",
   "execution_count": 71,
   "metadata": {},
   "outputs": [],
   "source": [
    "sm = SMOTE(random_state=0)\n",
    "X_os,y_os=sm.fit_resample(X,y)"
   ]
  },
  {
   "cell_type": "code",
   "execution_count": 72,
   "metadata": {},
   "outputs": [],
   "source": [
    "Xos_train, Xos_test, yos_train, yos_test = train_test_split(X_os, y_os, test_size=0.25, random_state=42)"
   ]
  },
  {
   "cell_type": "code",
   "execution_count": 73,
   "metadata": {},
   "outputs": [
    {
     "data": {
      "text/plain": [
       "LogisticRegression()"
      ]
     },
     "execution_count": 73,
     "metadata": {},
     "output_type": "execute_result"
    }
   ],
   "source": [
    "md_LR_os = LogisticRegression()\n",
    "md_LR_os.fit(Xos_train, yos_train)"
   ]
  },
  {
   "cell_type": "code",
   "execution_count": 74,
   "metadata": {},
   "outputs": [],
   "source": [
    "# Predicting the Test Data and Evaluation\n",
    "y_pred_os = md_LR_os.predict(Xos_test)"
   ]
  },
  {
   "cell_type": "code",
   "execution_count": 75,
   "metadata": {},
   "outputs": [
    {
     "name": "stdout",
     "output_type": "stream",
     "text": [
      "Accuracy 78.93030794165315 %\n"
     ]
    }
   ],
   "source": [
    "print('Accuracy {} %'.format(100 * accuracy_score(y_pred_os, yos_test)))"
   ]
  },
  {
   "cell_type": "code",
   "execution_count": 76,
   "metadata": {},
   "outputs": [
    {
     "data": {
      "text/plain": [
       "array([[235,  76],\n",
       "       [ 54, 252]], dtype=int64)"
      ]
     },
     "execution_count": 76,
     "metadata": {},
     "output_type": "execute_result"
    }
   ],
   "source": [
    "confusion_matrix(y_true=yos_test, y_pred=y_pred_os)"
   ]
  },
  {
   "cell_type": "code",
   "execution_count": 77,
   "metadata": {},
   "outputs": [
    {
     "name": "stdout",
     "output_type": "stream",
     "text": [
      "              precision    recall  f1-score   support\n",
      "\n",
      "           0       0.81      0.76      0.78       311\n",
      "           1       0.77      0.82      0.79       306\n",
      "\n",
      "    accuracy                           0.79       617\n",
      "   macro avg       0.79      0.79      0.79       617\n",
      "weighted avg       0.79      0.79      0.79       617\n",
      "\n"
     ]
    }
   ],
   "source": [
    "print(classification_report(yos_test,y_pred_os))"
   ]
  },
  {
   "cell_type": "markdown",
   "metadata": {},
   "source": [
    "**Although the overall F1 score has decreased we can see that the precision, recall and F1-score has improved significantly for the employees that have lef**"
   ]
  },
  {
   "cell_type": "markdown",
   "metadata": {},
   "source": [
    "**Feature Importance**"
   ]
  },
  {
   "cell_type": "code",
   "execution_count": 78,
   "metadata": {},
   "outputs": [
    {
     "data": {
      "text/plain": [
       "array([-1.16816575,  1.0152054 ,  0.30925175, -1.30290644, -0.04216607,\n",
       "       -1.49246069, -1.13049698,  0.077309  ,  1.48419672,  1.79646881,\n",
       "       -0.9496956 ,  0.10343805, -0.60504097, -0.43782374, -1.70527789,\n",
       "       -1.21243429, -1.01809961,  1.29962826, -1.56252024,  2.15147706,\n",
       "       -1.50584529,  1.5276358 ,  1.00389164, -0.04347123,  0.56784817,\n",
       "       -0.51738836, -0.22689531, -0.48039833, -0.90024423,  0.44203285,\n",
       "        0.46107637,  0.45220731,  1.31367241, -0.67764939,  0.04061467,\n",
       "       -1.42331691,  0.27653494,  0.03603812,  1.00262955,  0.77019564,\n",
       "        1.5705912 ])"
      ]
     },
     "execution_count": 78,
     "metadata": {},
     "output_type": "execute_result"
    }
   ],
   "source": [
    "md_LR_os.coef_[0]"
   ]
  },
  {
   "cell_type": "code",
   "execution_count": 79,
   "metadata": {},
   "outputs": [
    {
     "data": {
      "text/plain": [
       "<matplotlib.axes._subplots.AxesSubplot at 0x1e9e5f906a0>"
      ]
     },
     "execution_count": 79,
     "metadata": {},
     "output_type": "execute_result"
    },
    {
     "data": {
      "image/png": "[encoded data removed]",
      "text/plain": [
       "<Figure size 1440x720 with 1 Axes>"
      ]
     },
     "metadata": {
      "needs_background": "light"
     },
     "output_type": "display_data"
    }
   ],
   "source": [
    "abs(importance).sort_values('Importance',ascending=False).plot.bar(figsize=(20,10))"
   ]
  },
  {
   "cell_type": "markdown",
   "metadata": {},
   "source": [
    "### Note, the difference in Feature importance after applying SMOTE to the data. This indicates that the unbalance in the data will have a significant impact on the model predictions"
   ]
  },
  {
   "cell_type": "markdown",
   "metadata": {
    "colab_type": "text",
    "id": "o0LevjwDP3Zk"
   },
   "source": [
    "### TRAIN AND EVALUATE A RANDOM FOREST CLASSIFIER"
   ]
  },
  {
   "cell_type": "code",
   "execution_count": 89,
   "metadata": {
    "colab": {},
    "colab_type": "code",
    "id": "A9CInUwvP9nF"
   },
   "outputs": [],
   "source": [
    "from sklearn.ensemble import RandomForestClassifier"
   ]
  },
  {
   "cell_type": "code",
   "execution_count": 90,
   "metadata": {
    "colab": {},
    "colab_type": "code",
    "id": "X5x0CZkgQSsY"
   },
   "outputs": [
    {
     "data": {
      "text/plain": [
       "RandomForestClassifier(n_estimators=200)"
      ]
     },
     "execution_count": 90,
     "metadata": {},
     "output_type": "execute_result"
    }
   ],
   "source": [
    "rfc = RandomForestClassifier(n_estimators=200)\n",
    "rfc.fit(X_train, y_train)"
   ]
  },
  {
   "cell_type": "code",
   "execution_count": 91,
   "metadata": {},
   "outputs": [],
   "source": [
    "rfc_pred = rfc.predict(X_test)"
   ]
  },
  {
   "cell_type": "code",
   "execution_count": 92,
   "metadata": {},
   "outputs": [
    {
     "name": "stdout",
     "output_type": "stream",
     "text": [
      "[[316   4]\n",
      " [ 44   4]]\n"
     ]
    }
   ],
   "source": [
    "print(confusion_matrix(y_true=y_test, y_pred=rfc_pred))"
   ]
  },
  {
   "cell_type": "code",
   "execution_count": 93,
   "metadata": {},
   "outputs": [
    {
     "name": "stdout",
     "output_type": "stream",
     "text": [
      "              precision    recall  f1-score   support\n",
      "\n",
      "           0       0.88      0.99      0.93       320\n",
      "           1       0.50      0.08      0.14        48\n",
      "\n",
      "    accuracy                           0.87       368\n",
      "   macro avg       0.69      0.54      0.54       368\n",
      "weighted avg       0.83      0.87      0.83       368\n",
      "\n"
     ]
    }
   ],
   "source": [
    "print(classification_report(y_test,rfc_pred))"
   ]
  },
  {
   "cell_type": "code",
   "execution_count": 94,
   "metadata": {},
   "outputs": [
    {
     "data": {
      "text/plain": [
       "array([0.07189211, 0.04805348, 0.02342335, 0.0308569 , 0.04982456,\n",
       "       0.02338615, 0.02915198, 0.09352376, 0.04081393, 0.05747028,\n",
       "       0.03717334, 0.00539166, 0.02640096, 0.03420443, 0.06004259,\n",
       "       0.03098246, 0.02154277, 0.04750117, 0.03349293, 0.02995298,\n",
       "       0.03730718, 0.01252952, 0.00826727, 0.00928043, 0.00852094,\n",
       "       0.00940551, 0.00805439, 0.01029563, 0.00427381, 0.0078411 ,\n",
       "       0.01152898, 0.00354735, 0.0108237 , 0.0017477 , 0.00340285,\n",
       "       0.0013493 , 0.00715249, 0.00798188, 0.01057044, 0.00924518,\n",
       "       0.02179256])"
      ]
     },
     "execution_count": 94,
     "metadata": {},
     "output_type": "execute_result"
    }
   ],
   "source": [
    "rfc.feature_importances_"
   ]
  },
  {
   "cell_type": "code",
   "execution_count": 95,
   "metadata": {},
   "outputs": [
    {
     "data": {
      "application/javascript": [
       "\n",
       "        if (window._pyforest_update_imports_cell) { window._pyforest_update_imports_cell('import pandas as pd\\nimport matplotlib.pyplot as plt\\nimport seaborn as sns'); }\n",
       "    "
      ],
      "text/plain": [
       "<IPython.core.display.Javascript object>"
      ]
     },
     "metadata": {},
     "output_type": "display_data"
    },
    {
     "data": {
      "text/plain": [
       "<matplotlib.axes._subplots.AxesSubplot at 0x1e9e621a320>"
      ]
     },
     "execution_count": 95,
     "metadata": {},
     "output_type": "execute_result"
    },
    {
     "data": {
      "image/png": "[encoded data removed]",
      "text/plain": [
       "<Figure size 1440x720 with 1 Axes>"
      ]
     },
     "metadata": {
      "needs_background": "light"
     },
     "output_type": "display_data"
    }
   ],
   "source": [
    "importance = pd.DataFrame(data= rfc.feature_importances_, index=df_index.columns, columns=['Importance'])\n",
    "abs(importance).sort_values('Importance',ascending=False).plot.bar(figsize=(20,10))"
   ]
  },
  {
   "cell_type": "markdown",
   "metadata": {},
   "source": [
    "**Using SMOTE**"
   ]
  },
  {
   "cell_type": "code",
   "execution_count": 96,
   "metadata": {},
   "outputs": [
    {
     "data": {
      "text/plain": [
       "RandomForestClassifier(n_estimators=200)"
      ]
     },
     "execution_count": 96,
     "metadata": {},
     "output_type": "execute_result"
    }
   ],
   "source": [
    "md_rfc_os = RandomForestClassifier(n_estimators=200)\n",
    "md_rfc_os.fit(Xos_train, yos_train)"
   ]
  },
  {
   "cell_type": "code",
   "execution_count": 97,
   "metadata": {},
   "outputs": [],
   "source": [
    "# Predicting the Test Data and Evaluation\n",
    "y_pred_os = md_rfc_os.predict(Xos_test)"
   ]
  },
  {
   "cell_type": "code",
   "execution_count": 98,
   "metadata": {},
   "outputs": [
    {
     "name": "stdout",
     "output_type": "stream",
     "text": [
      "Accuracy 93.51701782820098 %\n"
     ]
    }
   ],
   "source": [
    "print('Accuracy {} %'.format(100 * accuracy_score(y_pred_os, yos_test)))"
   ]
  },
  {
   "cell_type": "code",
   "execution_count": 99,
   "metadata": {},
   "outputs": [
    {
     "data": {
      "text/plain": [
       "array([[304,   7],\n",
       "       [ 33, 273]], dtype=int64)"
      ]
     },
     "execution_count": 99,
     "metadata": {},
     "output_type": "execute_result"
    }
   ],
   "source": [
    "confusion_matrix(y_true=yos_test, y_pred=y_pred_os)"
   ]
  },
  {
   "cell_type": "code",
   "execution_count": 100,
   "metadata": {},
   "outputs": [
    {
     "name": "stdout",
     "output_type": "stream",
     "text": [
      "              precision    recall  f1-score   support\n",
      "\n",
      "           0       0.90      0.98      0.94       311\n",
      "           1       0.97      0.89      0.93       306\n",
      "\n",
      "    accuracy                           0.94       617\n",
      "   macro avg       0.94      0.93      0.94       617\n",
      "weighted avg       0.94      0.94      0.94       617\n",
      "\n"
     ]
    }
   ],
   "source": [
    "print(classification_report(yos_test,y_pred_os))"
   ]
  },
  {
   "cell_type": "code",
   "execution_count": 101,
   "metadata": {},
   "outputs": [
    {
     "data": {
      "text/plain": [
       "array([0.04455274, 0.03310154, 0.04016491, 0.0472771 , 0.03019673,\n",
       "       0.03825443, 0.05506109, 0.05256359, 0.03699954, 0.0959273 ,\n",
       "       0.02546981, 0.0050551 , 0.02438746, 0.0689565 , 0.05062482,\n",
       "       0.0326104 , 0.03019638, 0.03827999, 0.04040691, 0.02678153,\n",
       "       0.04169533, 0.00908003, 0.00631777, 0.00503214, 0.00645557,\n",
       "       0.00692726, 0.00523204, 0.00821662, 0.00277575, 0.0055447 ,\n",
       "       0.01040117, 0.00180381, 0.0101573 , 0.00296096, 0.00647797,\n",
       "       0.00272209, 0.00612493, 0.00681677, 0.00397322, 0.01028444,\n",
       "       0.02413225])"
      ]
     },
     "execution_count": 101,
     "metadata": {},
     "output_type": "execute_result"
    }
   ],
   "source": [
    "md_rfc_os.feature_importances_"
   ]
  },
  {
   "cell_type": "code",
   "execution_count": 102,
   "metadata": {},
   "outputs": [
    {
     "data": {
      "application/javascript": [
       "\n",
       "        if (window._pyforest_update_imports_cell) { window._pyforest_update_imports_cell('import pandas as pd\\nimport matplotlib.pyplot as plt\\nimport seaborn as sns'); }\n",
       "    "
      ],
      "text/plain": [
       "<IPython.core.display.Javascript object>"
      ]
     },
     "metadata": {},
     "output_type": "display_data"
    },
    {
     "data": {
      "text/plain": [
       "<matplotlib.axes._subplots.AxesSubplot at 0x1e9e6a3f438>"
      ]
     },
     "execution_count": 102,
     "metadata": {},
     "output_type": "execute_result"
    },
    {
     "data": {
      "image/png": "[encoded data removed]",
      "text/plain": [
       "<Figure size 1440x720 with 1 Axes>"
      ]
     },
     "metadata": {
      "needs_background": "light"
     },
     "output_type": "display_data"
    }
   ],
   "source": [
    "importance = pd.DataFrame(data= md_rfc_os.feature_importances_, index=df_index.columns, columns=['Importance'])\n",
    "abs(importance).sort_values('Importance',ascending=False).plot.bar(figsize=(20,10))"
   ]
  },
  {
   "cell_type": "markdown",
   "metadata": {
    "colab_type": "text",
    "id": "53qDZFRn3-S1"
   },
   "source": [
    "## TRAIN AND EVALUATE A DEEP LEARNING MODEL "
   ]
  },
  {
   "cell_type": "code",
   "execution_count": 103,
   "metadata": {
    "colab": {},
    "colab_type": "code",
    "id": "cilnKfMv1wP1"
   },
   "outputs": [],
   "source": [
    "import tensorflow as tf"
   ]
  },
  {
   "cell_type": "code",
   "execution_count": 104,
   "metadata": {
    "colab": {},
    "colab_type": "code",
    "id": "Yl6fmPJj3cCX"
   },
   "outputs": [],
   "source": [
    "md_dl = tf.keras.models.Sequential()\n",
    "md_dl.add(tf.keras.layers.Dense(units=500, activation='relu', input_shape=(41, )))\n",
    "md_dl.add(tf.keras.layers.Dense(units=500, activation='relu'))\n",
    "md_dl.add(tf.keras.layers.Dense(units=500, activation='relu'))\n",
    "md_dl.add(tf.keras.layers.Dense(units=1, activation='sigmoid'))\n"
   ]
  },
  {
   "cell_type": "code",
   "execution_count": 105,
   "metadata": {
    "colab": {},
    "colab_type": "code",
    "id": "GUd71odB4v-i"
   },
   "outputs": [
    {
     "name": "stdout",
     "output_type": "stream",
     "text": [
      "Model: \"sequential\"\n",
      "_________________________________________________________________\n",
      "Layer (type)                 Output Shape              Param #   \n",
      "=================================================================\n",
      "dense (Dense)                (None, 500)               21000     \n",
      "_________________________________________________________________\n",
      "dense_1 (Dense)              (None, 500)               250500    \n",
      "_________________________________________________________________\n",
      "dense_2 (Dense)              (None, 500)               250500    \n",
      "_________________________________________________________________\n",
      "dense_3 (Dense)              (None, 1)                 501       \n",
      "=================================================================\n",
      "Total params: 522,501\n",
      "Trainable params: 522,501\n",
      "Non-trainable params: 0\n",
      "_________________________________________________________________\n"
     ]
    }
   ],
   "source": [
    "md_dl.summary()\n",
    "# shows different layers"
   ]
  },
  {
   "cell_type": "code",
   "execution_count": 106,
   "metadata": {
    "colab": {},
    "colab_type": "code",
    "id": "BYmvNpNw5Act"
   },
   "outputs": [],
   "source": [
    "md_dl.compile(optimizer='Adam', loss='binary_crossentropy', metrics = ['accuracy'])"
   ]
  },
  {
   "cell_type": "code",
   "execution_count": 107,
   "metadata": {},
   "outputs": [
    {
     "name": "stdout",
     "output_type": "stream",
     "text": [
      "Epoch 1/100\n",
      "23/23 [==============================] - 1s 7ms/step - loss: 0.4738 - accuracy: 0.8051\n",
      "Epoch 2/100\n",
      "23/23 [==============================] - 0s 6ms/step - loss: 0.3323 - accuracy: 0.8739\n",
      "Epoch 3/100\n",
      "23/23 [==============================] - 0s 7ms/step - loss: 0.3214 - accuracy: 0.8831\n",
      "Epoch 4/100\n",
      "23/23 [==============================] - 0s 7ms/step - loss: 0.3192 - accuracy: 0.8644\n",
      "Epoch 5/100\n",
      "23/23 [==============================] - 0s 7ms/step - loss: 0.2878 - accuracy: 0.8858\n",
      "Epoch 6/100\n",
      "23/23 [==============================] - 0s 7ms/step - loss: 0.2745 - accuracy: 0.8883\n",
      "Epoch 7/100\n",
      "23/23 [==============================] - 0s 9ms/step - loss: 0.1785 - accuracy: 0.9360\n",
      "Epoch 8/100\n",
      "23/23 [==============================] - 0s 7ms/step - loss: 0.1920 - accuracy: 0.9277\n",
      "Epoch 9/100\n",
      "23/23 [==============================] - 0s 7ms/step - loss: 0.1657 - accuracy: 0.9409\n",
      "Epoch 10/100\n",
      "23/23 [==============================] - 0s 8ms/step - loss: 0.1497 - accuracy: 0.9426\n",
      "Epoch 11/100\n",
      "23/23 [==============================] - 0s 8ms/step - loss: 0.1037 - accuracy: 0.9672\n",
      "Epoch 12/100\n",
      "23/23 [==============================] - 0s 9ms/step - loss: 0.0785 - accuracy: 0.9756\n",
      "Epoch 13/100\n",
      "23/23 [==============================] - 0s 7ms/step - loss: 0.0666 - accuracy: 0.9724\n",
      "Epoch 14/100\n",
      "23/23 [==============================] - 0s 10ms/step - loss: 0.0599 - accuracy: 0.9816\n",
      "Epoch 15/100\n",
      "23/23 [==============================] - 0s 7ms/step - loss: 0.0727 - accuracy: 0.9768\n",
      "Epoch 16/100\n",
      "23/23 [==============================] - 0s 10ms/step - loss: 0.0558 - accuracy: 0.9791\n",
      "Epoch 17/100\n",
      "23/23 [==============================] - 0s 11ms/step - loss: 0.0357 - accuracy: 0.9883\n",
      "Epoch 18/100\n",
      "23/23 [==============================] - 0s 10ms/step - loss: 0.0180 - accuracy: 0.9970\n",
      "Epoch 19/100\n",
      "23/23 [==============================] - 0s 9ms/step - loss: 0.0063 - accuracy: 0.9988\n",
      "Epoch 20/100\n",
      "23/23 [==============================] - 0s 9ms/step - loss: 0.0126 - accuracy: 0.9950\n",
      "Epoch 21/100\n",
      "23/23 [==============================] - 0s 7ms/step - loss: 0.0087 - accuracy: 0.9993\n",
      "Epoch 22/100\n",
      "23/23 [==============================] - 0s 7ms/step - loss: 0.0073 - accuracy: 0.9999\n",
      "Epoch 23/100\n",
      "23/23 [==============================] - 0s 7ms/step - loss: 0.0034 - accuracy: 0.9994\n",
      "Epoch 24/100\n",
      "23/23 [==============================] - 0s 7ms/step - loss: 0.0027 - accuracy: 1.0000\n",
      "Epoch 25/100\n",
      "23/23 [==============================] - 0s 6ms/step - loss: 7.8264e-04 - accuracy: 1.0000\n",
      "Epoch 26/100\n",
      "23/23 [==============================] - 0s 7ms/step - loss: 4.5207e-04 - accuracy: 1.0000\n",
      "Epoch 27/100\n",
      "23/23 [==============================] - 0s 8ms/step - loss: 4.2160e-04 - accuracy: 1.0000\n",
      "Epoch 28/100\n",
      "23/23 [==============================] - 0s 9ms/step - loss: 2.6181e-04 - accuracy: 1.0000\n",
      "Epoch 29/100\n",
      "23/23 [==============================] - 0s 9ms/step - loss: 2.2714e-04 - accuracy: 1.0000\n",
      "Epoch 30/100\n",
      "23/23 [==============================] - 0s 7ms/step - loss: 2.4567e-04 - accuracy: 1.0000\n",
      "Epoch 31/100\n",
      "23/23 [==============================] - 0s 8ms/step - loss: 2.8001e-04 - accuracy: 1.0000\n",
      "Epoch 32/100\n",
      "23/23 [==============================] - 0s 11ms/step - loss: 1.8199e-04 - accuracy: 1.0000\n",
      "Epoch 33/100\n",
      "23/23 [==============================] - 0s 10ms/step - loss: 2.0655e-04 - accuracy: 1.0000\n",
      "Epoch 34/100\n",
      "23/23 [==============================] - 0s 9ms/step - loss: 1.3919e-04 - accuracy: 1.0000\n",
      "Epoch 35/100\n",
      "23/23 [==============================] - 0s 9ms/step - loss: 1.3669e-04 - accuracy: 1.0000\n",
      "Epoch 36/100\n",
      "23/23 [==============================] - 0s 8ms/step - loss: 1.4576e-04 - accuracy: 1.0000\n",
      "Epoch 37/100\n",
      "23/23 [==============================] - 0s 8ms/step - loss: 1.0880e-04 - accuracy: 1.0000\n",
      "Epoch 38/100\n",
      "23/23 [==============================] - 0s 7ms/step - loss: 8.9386e-05 - accuracy: 1.0000\n",
      "Epoch 39/100\n",
      "23/23 [==============================] - 0s 7ms/step - loss: 1.0249e-04 - accuracy: 1.0000\n",
      "Epoch 40/100\n",
      "23/23 [==============================] - 0s 7ms/step - loss: 8.2440e-05 - accuracy: 1.0000\n",
      "Epoch 41/100\n",
      "23/23 [==============================] - 0s 7ms/step - loss: 8.6301e-05 - accuracy: 1.0000\n",
      "Epoch 42/100\n",
      "23/23 [==============================] - 0s 7ms/step - loss: 8.9825e-05 - accuracy: 1.0000\n",
      "Epoch 43/100\n",
      "23/23 [==============================] - 0s 7ms/step - loss: 6.9330e-05 - accuracy: 1.0000\n",
      "Epoch 44/100\n",
      "23/23 [==============================] - 0s 8ms/step - loss: 6.9047e-05 - accuracy: 1.0000\n",
      "Epoch 45/100\n",
      "23/23 [==============================] - 0s 8ms/step - loss: 7.6522e-05 - accuracy: 1.0000\n",
      "Epoch 46/100\n",
      "23/23 [==============================] - 0s 10ms/step - loss: 5.6887e-05 - accuracy: 1.0000\n",
      "Epoch 47/100\n",
      "23/23 [==============================] - 0s 9ms/step - loss: 5.4870e-05 - accuracy: 1.0000\n",
      "Epoch 48/100\n",
      "23/23 [==============================] - 0s 9ms/step - loss: 7.1616e-05 - accuracy: 1.0000\n",
      "Epoch 49/100\n",
      "23/23 [==============================] - 0s 7ms/step - loss: 6.6649e-05 - accuracy: 1.0000\n",
      "Epoch 50/100\n",
      "23/23 [==============================] - 0s 7ms/step - loss: 4.0865e-05 - accuracy: 1.0000\n",
      "Epoch 51/100\n",
      "23/23 [==============================] - 0s 6ms/step - loss: 4.0021e-05 - accuracy: 1.0000\n",
      "Epoch 52/100\n",
      "23/23 [==============================] - 0s 7ms/step - loss: 3.9485e-05 - accuracy: 1.0000\n",
      "Epoch 53/100\n",
      "23/23 [==============================] - 0s 8ms/step - loss: 3.3364e-05 - accuracy: 1.0000\n",
      "Epoch 54/100\n",
      "23/23 [==============================] - 0s 10ms/step - loss: 3.5669e-05 - accuracy: 1.0000\n",
      "Epoch 55/100\n",
      "23/23 [==============================] - 0s 10ms/step - loss: 4.3244e-05 - accuracy: 1.0000\n",
      "Epoch 56/100\n",
      "23/23 [==============================] - 0s 10ms/step - loss: 3.6209e-05 - accuracy: 1.0000\n",
      "Epoch 57/100\n",
      "23/23 [==============================] - 0s 8ms/step - loss: 3.2023e-05 - accuracy: 1.0000\n",
      "Epoch 58/100\n",
      "23/23 [==============================] - 0s 8ms/step - loss: 3.0242e-05 - accuracy: 1.0000\n",
      "Epoch 59/100\n",
      "23/23 [==============================] - 0s 7ms/step - loss: 2.7199e-05 - accuracy: 1.0000\n",
      "Epoch 60/100\n",
      "23/23 [==============================] - 0s 6ms/step - loss: 2.7763e-05 - accuracy: 1.0000\n",
      "Epoch 61/100\n",
      "23/23 [==============================] - 0s 8ms/step - loss: 2.4290e-05 - accuracy: 1.0000\n",
      "Epoch 62/100\n",
      "23/23 [==============================] - 0s 10ms/step - loss: 2.0826e-05 - accuracy: 1.0000\n",
      "Epoch 63/100\n",
      "23/23 [==============================] - 0s 9ms/step - loss: 2.2992e-05 - accuracy: 1.0000\n",
      "Epoch 64/100\n",
      "23/23 [==============================] - 0s 12ms/step - loss: 2.1854e-05 - accuracy: 1.0000\n",
      "Epoch 65/100\n",
      "23/23 [==============================] - 0s 9ms/step - loss: 2.0374e-05 - accuracy: 1.0000\n",
      "Epoch 66/100\n",
      "23/23 [==============================] - 0s 10ms/step - loss: 2.0363e-05 - accuracy: 1.0000\n",
      "Epoch 67/100\n",
      "23/23 [==============================] - 0s 9ms/step - loss: 1.9760e-05 - accuracy: 1.0000\n",
      "Epoch 68/100\n",
      "23/23 [==============================] - 0s 11ms/step - loss: 1.8660e-05 - accuracy: 1.0000\n",
      "Epoch 69/100\n",
      "23/23 [==============================] - 0s 12ms/step - loss: 1.7810e-05 - accuracy: 1.0000\n",
      "Epoch 70/100\n",
      "23/23 [==============================] - 0s 11ms/step - loss: 1.9292e-05 - accuracy: 1.0000\n",
      "Epoch 71/100\n",
      "23/23 [==============================] - 0s 10ms/step - loss: 1.7868e-05 - accuracy: 1.0000\n",
      "Epoch 72/100\n",
      "23/23 [==============================] - 0s 10ms/step - loss: 1.5132e-05 - accuracy: 1.0000\n",
      "Epoch 73/100\n",
      "23/23 [==============================] - 0s 9ms/step - loss: 1.4808e-05 - accuracy: 1.0000\n",
      "Epoch 74/100\n",
      "23/23 [==============================] - 0s 9ms/step - loss: 1.5193e-05 - accuracy: 1.0000\n",
      "Epoch 75/100\n",
      "23/23 [==============================] - 0s 8ms/step - loss: 1.3951e-05 - accuracy: 1.0000\n",
      "Epoch 76/100\n",
      "23/23 [==============================] - 0s 8ms/step - loss: 1.7685e-05 - accuracy: 1.0000\n",
      "Epoch 77/100\n",
      "23/23 [==============================] - 0s 8ms/step - loss: 1.2192e-05 - accuracy: 1.0000\n",
      "Epoch 78/100\n",
      "23/23 [==============================] - 0s 8ms/step - loss: 1.1626e-05 - accuracy: 1.0000\n",
      "Epoch 79/100\n",
      "23/23 [==============================] - 0s 9ms/step - loss: 1.2237e-05 - accuracy: 1.0000\n",
      "Epoch 80/100\n",
      "23/23 [==============================] - 0s 10ms/step - loss: 1.1916e-05 - accuracy: 1.0000\n",
      "Epoch 81/100\n",
      "23/23 [==============================] - 0s 8ms/step - loss: 1.1374e-05 - accuracy: 1.0000\n",
      "Epoch 82/100\n",
      "23/23 [==============================] - 0s 11ms/step - loss: 1.1508e-05 - accuracy: 1.0000\n",
      "Epoch 83/100\n",
      "23/23 [==============================] - 0s 7ms/step - loss: 9.0713e-06 - accuracy: 1.0000\n",
      "Epoch 84/100\n",
      "23/23 [==============================] - 0s 10ms/step - loss: 1.1134e-05 - accuracy: 1.0000\n",
      "Epoch 85/100\n",
      "23/23 [==============================] - 0s 7ms/step - loss: 8.0508e-06 - accuracy: 1.0000\n",
      "Epoch 86/100\n",
      "23/23 [==============================] - 0s 9ms/step - loss: 9.2336e-06 - accuracy: 1.0000\n",
      "Epoch 87/100\n",
      "23/23 [==============================] - 0s 8ms/step - loss: 8.3466e-06 - accuracy: 1.0000\n",
      "Epoch 88/100\n",
      "23/23 [==============================] - 0s 9ms/step - loss: 1.0951e-05 - accuracy: 1.0000\n",
      "Epoch 89/100\n",
      "23/23 [==============================] - 0s 7ms/step - loss: 1.0121e-05 - accuracy: 1.0000\n",
      "Epoch 90/100\n",
      "23/23 [==============================] - 0s 7ms/step - loss: 7.0880e-06 - accuracy: 1.0000\n",
      "Epoch 91/100\n",
      "23/23 [==============================] - 0s 7ms/step - loss: 6.4403e-06 - accuracy: 1.0000\n",
      "Epoch 92/100\n",
      "23/23 [==============================] - 0s 10ms/step - loss: 7.7441e-06 - accuracy: 1.0000\n",
      "Epoch 93/100\n",
      "23/23 [==============================] - 0s 7ms/step - loss: 8.0000e-06 - accuracy: 1.0000\n",
      "Epoch 94/100\n",
      "23/23 [==============================] - 0s 7ms/step - loss: 8.1758e-06 - accuracy: 1.0000\n",
      "Epoch 95/100\n",
      "23/23 [==============================] - 0s 6ms/step - loss: 7.4930e-06 - accuracy: 1.0000\n",
      "Epoch 96/100\n",
      "23/23 [==============================] - 0s 8ms/step - loss: 6.9820e-06 - accuracy: 1.0000\n",
      "Epoch 97/100\n",
      "23/23 [==============================] - 0s 8ms/step - loss: 6.3486e-06 - accuracy: 1.0000\n",
      "Epoch 98/100\n",
      "23/23 [==============================] - 0s 8ms/step - loss: 7.1171e-06 - accuracy: 1.0000\n",
      "Epoch 99/100\n",
      "23/23 [==============================] - 0s 7ms/step - loss: 6.1680e-06 - accuracy: 1.0000\n",
      "Epoch 100/100\n",
      "23/23 [==============================] - 0s 6ms/step - loss: 5.4768e-06 - accuracy: 1.0000\n"
     ]
    }
   ],
   "source": [
    "# We have an unbalanced dataset so we can increase the number of samples for empolyees who left the Co.\n",
    "# oversampler = SMOTE(random_state=0)\n",
    "# smote_train, smote_target = oversampler.fit_sample(X_train, y_train)\n",
    "# epochs_hist = model.fit(smote_train, smote_target, epochs = 100, batch_size = 50)\n",
    "epochs_hist = md_dl.fit(X_train, y_train, epochs = 100, batch_size=50)"
   ]
  },
  {
   "cell_type": "code",
   "execution_count": 108,
   "metadata": {
    "colab": {},
    "colab_type": "code",
    "id": "dS0rE8aoUO05"
   },
   "outputs": [],
   "source": [
    "y_pred = md_dl.predict(X_test)\n",
    "y_pred_a = (y_pred > 0.5) "
   ]
  },
  {
   "cell_type": "code",
   "execution_count": 110,
   "metadata": {},
   "outputs": [
    {
     "data": {
      "text/plain": [
       "array([[1.3760119e-05],\n",
       "       [4.7233999e-14],\n",
       "       [2.1561734e-08],\n",
       "       [1.6756268e-12],\n",
       "       [8.7663293e-10]], dtype=float32)"
      ]
     },
     "execution_count": 110,
     "metadata": {},
     "output_type": "execute_result"
    }
   ],
   "source": [
    "y_pred[0:5]"
   ]
  },
  {
   "cell_type": "code",
   "execution_count": 111,
   "metadata": {
    "colab": {},
    "colab_type": "code",
    "id": "k4PYwm6R25r6"
   },
   "outputs": [
    {
     "data": {
      "text/plain": [
       "array([[False],\n",
       "       [False],\n",
       "       [False],\n",
       "       [False],\n",
       "       [False]])"
      ]
     },
     "execution_count": 111,
     "metadata": {},
     "output_type": "execute_result"
    }
   ],
   "source": [
    "y_pred_a[0:5]"
   ]
  },
  {
   "cell_type": "code",
   "execution_count": 112,
   "metadata": {},
   "outputs": [
    {
     "data": {
      "text/plain": [
       "dict_keys(['loss', 'accuracy'])"
      ]
     },
     "execution_count": 112,
     "metadata": {},
     "output_type": "execute_result"
    }
   ],
   "source": [
    "epochs_hist.history.keys()"
   ]
  },
  {
   "cell_type": "code",
   "execution_count": 113,
   "metadata": {
    "colab": {},
    "colab_type": "code",
    "id": "AfQ5pPAS3CQF"
   },
   "outputs": [
    {
     "data": {
      "application/javascript": [
       "\n",
       "        if (window._pyforest_update_imports_cell) { window._pyforest_update_imports_cell('import pandas as pd\\nimport matplotlib.pyplot as plt\\nimport seaborn as sns'); }\n",
       "    "
      ],
      "text/plain": [
       "<IPython.core.display.Javascript object>"
      ]
     },
     "metadata": {},
     "output_type": "display_data"
    },
    {
     "data": {
      "application/javascript": [
       "\n",
       "        if (window._pyforest_update_imports_cell) { window._pyforest_update_imports_cell('import pandas as pd\\nimport matplotlib.pyplot as plt\\nimport seaborn as sns'); }\n",
       "    "
      ],
      "text/plain": [
       "<IPython.core.display.Javascript object>"
      ]
     },
     "metadata": {},
     "output_type": "display_data"
    },
    {
     "data": {
      "application/javascript": [
       "\n",
       "        if (window._pyforest_update_imports_cell) { window._pyforest_update_imports_cell('import pandas as pd\\nimport matplotlib.pyplot as plt\\nimport seaborn as sns'); }\n",
       "    "
      ],
      "text/plain": [
       "<IPython.core.display.Javascript object>"
      ]
     },
     "metadata": {},
     "output_type": "display_data"
    },
    {
     "data": {
      "application/javascript": [
       "\n",
       "        if (window._pyforest_update_imports_cell) { window._pyforest_update_imports_cell('import pandas as pd\\nimport matplotlib.pyplot as plt\\nimport seaborn as sns'); }\n",
       "    "
      ],
      "text/plain": [
       "<IPython.core.display.Javascript object>"
      ]
     },
     "metadata": {},
     "output_type": "display_data"
    },
    {
     "data": {
      "application/javascript": [
       "\n",
       "        if (window._pyforest_update_imports_cell) { window._pyforest_update_imports_cell('import pandas as pd\\nimport matplotlib.pyplot as plt\\nimport seaborn as sns'); }\n",
       "    "
      ],
      "text/plain": [
       "<IPython.core.display.Javascript object>"
      ]
     },
     "metadata": {},
     "output_type": "display_data"
    },
    {
     "data": {
      "text/plain": [
       "<matplotlib.legend.Legend at 0x1e9f68bdc88>"
      ]
     },
     "execution_count": 113,
     "metadata": {},
     "output_type": "execute_result"
    },
    {
     "data": {
      "image/png": "[encoded data removed]",
      "text/plain": [
       "<Figure size 432x288 with 1 Axes>"
      ]
     },
     "metadata": {
      "needs_background": "light"
     },
     "output_type": "display_data"
    }
   ],
   "source": [
    "plt.plot(epochs_hist.history['loss'])\n",
    "plt.title('Model Loss Progress During Training')\n",
    "plt.xlabel('Epoch')\n",
    "plt.ylabel('Training Loss')\n",
    "plt.legend(['Training Loss'])"
   ]
  },
  {
   "cell_type": "code",
   "execution_count": 114,
   "metadata": {
    "colab": {},
    "colab_type": "code",
    "id": "eXiDop_l5erJ"
   },
   "outputs": [
    {
     "data": {
      "application/javascript": [
       "\n",
       "        if (window._pyforest_update_imports_cell) { window._pyforest_update_imports_cell('import pandas as pd\\nimport matplotlib.pyplot as plt\\nimport seaborn as sns'); }\n",
       "    "
      ],
      "text/plain": [
       "<IPython.core.display.Javascript object>"
      ]
     },
     "metadata": {},
     "output_type": "display_data"
    },
    {
     "data": {
      "application/javascript": [
       "\n",
       "        if (window._pyforest_update_imports_cell) { window._pyforest_update_imports_cell('import pandas as pd\\nimport matplotlib.pyplot as plt\\nimport seaborn as sns'); }\n",
       "    "
      ],
      "text/plain": [
       "<IPython.core.display.Javascript object>"
      ]
     },
     "metadata": {},
     "output_type": "display_data"
    },
    {
     "data": {
      "application/javascript": [
       "\n",
       "        if (window._pyforest_update_imports_cell) { window._pyforest_update_imports_cell('import pandas as pd\\nimport matplotlib.pyplot as plt\\nimport seaborn as sns'); }\n",
       "    "
      ],
      "text/plain": [
       "<IPython.core.display.Javascript object>"
      ]
     },
     "metadata": {},
     "output_type": "display_data"
    },
    {
     "data": {
      "application/javascript": [
       "\n",
       "        if (window._pyforest_update_imports_cell) { window._pyforest_update_imports_cell('import pandas as pd\\nimport matplotlib.pyplot as plt\\nimport seaborn as sns'); }\n",
       "    "
      ],
      "text/plain": [
       "<IPython.core.display.Javascript object>"
      ]
     },
     "metadata": {},
     "output_type": "display_data"
    },
    {
     "data": {
      "application/javascript": [
       "\n",
       "        if (window._pyforest_update_imports_cell) { window._pyforest_update_imports_cell('import pandas as pd\\nimport matplotlib.pyplot as plt\\nimport seaborn as sns'); }\n",
       "    "
      ],
      "text/plain": [
       "<IPython.core.display.Javascript object>"
      ]
     },
     "metadata": {},
     "output_type": "display_data"
    },
    {
     "data": {
      "text/plain": [
       "<matplotlib.legend.Legend at 0x1e9f6928a58>"
      ]
     },
     "execution_count": 114,
     "metadata": {},
     "output_type": "execute_result"
    },
    {
     "data": {
      "image/png": "[encoded data removed]",
      "text/plain": [
       "<Figure size 432x288 with 1 Axes>"
      ]
     },
     "metadata": {
      "needs_background": "light"
     },
     "output_type": "display_data"
    }
   ],
   "source": [
    "plt.plot(epochs_hist.history['accuracy'])\n",
    "plt.title('Model Loss Progress During Training')\n",
    "plt.xlabel('Epoch')\n",
    "plt.ylabel('Training Loss')\n",
    "plt.legend(['Training Loss'])"
   ]
  },
  {
   "cell_type": "code",
   "execution_count": 115,
   "metadata": {},
   "outputs": [
    {
     "data": {
      "text/plain": [
       "array([[303,  17],\n",
       "       [ 29,  19]], dtype=int64)"
      ]
     },
     "execution_count": 115,
     "metadata": {},
     "output_type": "execute_result"
    }
   ],
   "source": [
    "confusion_matrix(y_true=y_test, y_pred=y_pred_a)"
   ]
  },
  {
   "cell_type": "code",
   "execution_count": 116,
   "metadata": {
    "colab": {},
    "colab_type": "code",
    "id": "aJ3ZbRjwa_HK"
   },
   "outputs": [
    {
     "data": {
      "application/javascript": [
       "\n",
       "        if (window._pyforest_update_imports_cell) { window._pyforest_update_imports_cell('import pandas as pd\\nimport matplotlib.pyplot as plt\\nimport seaborn as sns'); }\n",
       "    "
      ],
      "text/plain": [
       "<IPython.core.display.Javascript object>"
      ]
     },
     "metadata": {},
     "output_type": "display_data"
    },
    {
     "data": {
      "application/javascript": [
       "\n",
       "        if (window._pyforest_update_imports_cell) { window._pyforest_update_imports_cell('import pandas as pd\\nimport matplotlib.pyplot as plt\\nimport seaborn as sns'); }\n",
       "    "
      ],
      "text/plain": [
       "<IPython.core.display.Javascript object>"
      ]
     },
     "metadata": {},
     "output_type": "display_data"
    },
    {
     "data": {
      "text/plain": [
       "(5, 0)"
      ]
     },
     "execution_count": 116,
     "metadata": {},
     "output_type": "execute_result"
    },
    {
     "data": {
      "image/png": "[encoded data removed]",
      "text/plain": [
       "<Figure size 432x288 with 1 Axes>"
      ]
     },
     "metadata": {
      "needs_background": "light"
     },
     "output_type": "display_data"
    }
   ],
   "source": [
    "sns.heatmap(confusion_matrix(y_true=y_test, y_pred=y_pred_a), annot=True, cbar=False )\n",
    "plt.ylim(5,0)"
   ]
  },
  {
   "cell_type": "code",
   "execution_count": 117,
   "metadata": {},
   "outputs": [
    {
     "name": "stdout",
     "output_type": "stream",
     "text": [
      "              precision    recall  f1-score   support\n",
      "\n",
      "           0       0.91      0.95      0.93       320\n",
      "           1       0.53      0.40      0.45        48\n",
      "\n",
      "    accuracy                           0.88       368\n",
      "   macro avg       0.72      0.67      0.69       368\n",
      "weighted avg       0.86      0.88      0.87       368\n",
      "\n"
     ]
    }
   ],
   "source": [
    "print(classification_report(y_test, y_pred_a))"
   ]
  },
  {
   "cell_type": "markdown",
   "metadata": {},
   "source": [
    "**Using SMOTE**"
   ]
  },
  {
   "cell_type": "code",
   "execution_count": 118,
   "metadata": {},
   "outputs": [],
   "source": [
    "md_dl_os = tf.keras.models.Sequential()\n",
    "md_dl_os.add(tf.keras.layers.Dense(units=500, activation='relu', input_shape=(41, )))\n",
    "md_dl_os.add(tf.keras.layers.Dense(units=500, activation='relu'))\n",
    "md_dl_os.add(tf.keras.layers.Dense(units=500, activation='relu'))\n",
    "md_dl_os.add(tf.keras.layers.Dense(units=1, activation='sigmoid'))"
   ]
  },
  {
   "cell_type": "code",
   "execution_count": 119,
   "metadata": {},
   "outputs": [
    {
     "name": "stdout",
     "output_type": "stream",
     "text": [
      "Epoch 1/100\n",
      "37/37 [==============================] - 1s 6ms/step - loss: 0.6117 - accuracy: 0.6315\n",
      "Epoch 2/100\n",
      "37/37 [==============================] - 0s 6ms/step - loss: 0.4121 - accuracy: 0.8134\n",
      "Epoch 3/100\n",
      "37/37 [==============================] - 0s 8ms/step - loss: 0.3231 - accuracy: 0.8665\n",
      "Epoch 4/100\n",
      "37/37 [==============================] - 0s 7ms/step - loss: 0.2567 - accuracy: 0.8997\n",
      "Epoch 5/100\n",
      "37/37 [==============================] - 0s 7ms/step - loss: 0.1375 - accuracy: 0.9505\n",
      "Epoch 6/100\n",
      "37/37 [==============================] - 0s 7ms/step - loss: 0.1170 - accuracy: 0.9614\n",
      "Epoch 7/100\n",
      "37/37 [==============================] - 0s 6ms/step - loss: 0.0921 - accuracy: 0.9747\n",
      "Epoch 8/100\n",
      "37/37 [==============================] - 0s 7ms/step - loss: 0.0770 - accuracy: 0.9771\n",
      "Epoch 9/100\n",
      "37/37 [==============================] - 0s 7ms/step - loss: 0.0427 - accuracy: 0.9863\n",
      "Epoch 10/100\n",
      "37/37 [==============================] - 0s 7ms/step - loss: 0.0119 - accuracy: 0.9988\n",
      "Epoch 11/100\n",
      "37/37 [==============================] - 0s 7ms/step - loss: 0.0087 - accuracy: 0.9978\n",
      "Epoch 12/100\n",
      "37/37 [==============================] - 0s 7ms/step - loss: 0.0095 - accuracy: 0.9968\n",
      "Epoch 13/100\n",
      "37/37 [==============================] - 0s 7ms/step - loss: 0.0049 - accuracy: 0.9981\n",
      "Epoch 14/100\n",
      "37/37 [==============================] - 0s 7ms/step - loss: 0.0043 - accuracy: 0.9989\n",
      "Epoch 15/100\n",
      "37/37 [==============================] - 0s 7ms/step - loss: 0.0013 - accuracy: 1.0000\n",
      "Epoch 16/100\n",
      "37/37 [==============================] - 0s 9ms/step - loss: 9.2910e-04 - accuracy: 1.0000\n",
      "Epoch 17/100\n",
      "37/37 [==============================] - 0s 9ms/step - loss: 3.2514e-04 - accuracy: 1.0000\n",
      "Epoch 18/100\n",
      "37/37 [==============================] - 0s 10ms/step - loss: 2.4368e-04 - accuracy: 1.0000\n",
      "Epoch 19/100\n",
      "37/37 [==============================] - 0s 8ms/step - loss: 2.0292e-04 - accuracy: 1.0000\n",
      "Epoch 20/100\n",
      "37/37 [==============================] - 0s 10ms/step - loss: 1.6668e-04 - accuracy: 1.0000\n",
      "Epoch 21/100\n",
      "37/37 [==============================] - 0s 9ms/step - loss: 1.4889e-04 - accuracy: 1.0000\n",
      "Epoch 22/100\n",
      "37/37 [==============================] - 0s 7ms/step - loss: 1.0501e-04 - accuracy: 1.0000\n",
      "Epoch 23/100\n",
      "37/37 [==============================] - 0s 7ms/step - loss: 1.0007e-04 - accuracy: 1.0000\n",
      "Epoch 24/100\n",
      "37/37 [==============================] - 0s 7ms/step - loss: 8.5422e-05 - accuracy: 1.0000\n",
      "Epoch 25/100\n",
      "37/37 [==============================] - 0s 7ms/step - loss: 7.4666e-05 - accuracy: 1.0000\n",
      "Epoch 26/100\n",
      "37/37 [==============================] - 0s 7ms/step - loss: 6.1769e-05 - accuracy: 1.0000\n",
      "Epoch 27/100\n",
      "37/37 [==============================] - 0s 7ms/step - loss: 5.1760e-05 - accuracy: 1.0000\n",
      "Epoch 28/100\n",
      "37/37 [==============================] - 0s 7ms/step - loss: 4.2403e-05 - accuracy: 1.0000\n",
      "Epoch 29/100\n",
      "37/37 [==============================] - 0s 7ms/step - loss: 3.6842e-05 - accuracy: 1.0000\n",
      "Epoch 30/100\n",
      "37/37 [==============================] - 0s 7ms/step - loss: 3.0412e-05 - accuracy: 1.0000\n",
      "Epoch 31/100\n",
      "37/37 [==============================] - 0s 7ms/step - loss: 2.6190e-05 - accuracy: 1.0000\n",
      "Epoch 32/100\n",
      "37/37 [==============================] - 0s 7ms/step - loss: 2.3340e-05 - accuracy: 1.0000\n",
      "Epoch 33/100\n",
      "37/37 [==============================] - 0s 7ms/step - loss: 1.8185e-05 - accuracy: 1.0000\n",
      "Epoch 34/100\n",
      "37/37 [==============================] - 0s 7ms/step - loss: 1.6438e-05 - accuracy: 1.0000\n",
      "Epoch 35/100\n",
      "37/37 [==============================] - 0s 7ms/step - loss: 1.3887e-05 - accuracy: 1.0000\n",
      "Epoch 36/100\n",
      "37/37 [==============================] - 0s 7ms/step - loss: 1.2350e-05 - accuracy: 1.0000\n",
      "Epoch 37/100\n",
      "37/37 [==============================] - 0s 7ms/step - loss: 1.2172e-05 - accuracy: 1.0000\n",
      "Epoch 38/100\n",
      "37/37 [==============================] - 0s 7ms/step - loss: 9.3627e-06 - accuracy: 1.0000\n",
      "Epoch 39/100\n",
      "37/37 [==============================] - 0s 6ms/step - loss: 9.5273e-06 - accuracy: 1.0000\n",
      "Epoch 40/100\n",
      "37/37 [==============================] - 0s 9ms/step - loss: 8.4276e-06 - accuracy: 1.0000\n",
      "Epoch 41/100\n",
      "37/37 [==============================] - 0s 8ms/step - loss: 7.4108e-06 - accuracy: 1.0000\n",
      "Epoch 42/100\n",
      "37/37 [==============================] - 0s 8ms/step - loss: 5.8333e-06 - accuracy: 1.0000\n",
      "Epoch 43/100\n",
      "37/37 [==============================] - 0s 8ms/step - loss: 5.8588e-06 - accuracy: 1.0000\n",
      "Epoch 44/100\n",
      "37/37 [==============================] - 0s 7ms/step - loss: 5.0277e-06 - accuracy: 1.0000\n",
      "Epoch 45/100\n",
      "37/37 [==============================] - 0s 7ms/step - loss: 4.8747e-06 - accuracy: 1.0000\n",
      "Epoch 46/100\n",
      "37/37 [==============================] - 0s 7ms/step - loss: 3.8866e-06 - accuracy: 1.0000\n",
      "Epoch 47/100\n",
      "37/37 [==============================] - 0s 7ms/step - loss: 4.3061e-06 - accuracy: 1.0000\n",
      "Epoch 48/100\n",
      "37/37 [==============================] - 0s 7ms/step - loss: 3.4889e-06 - accuracy: 1.0000\n",
      "Epoch 49/100\n",
      "37/37 [==============================] - 0s 7ms/step - loss: 3.7638e-06 - accuracy: 1.0000\n",
      "Epoch 50/100\n",
      "37/37 [==============================] - 0s 7ms/step - loss: 3.4366e-06 - accuracy: 1.0000\n",
      "Epoch 51/100\n",
      "37/37 [==============================] - 0s 7ms/step - loss: 3.1416e-06 - accuracy: 1.0000\n",
      "Epoch 52/100\n",
      "37/37 [==============================] - 0s 7ms/step - loss: 2.8352e-06 - accuracy: 1.0000\n",
      "Epoch 53/100\n",
      "37/37 [==============================] - 0s 7ms/step - loss: 2.5909e-06 - accuracy: 1.0000\n",
      "Epoch 54/100\n",
      "37/37 [==============================] - 0s 7ms/step - loss: 2.3601e-06 - accuracy: 1.0000\n",
      "Epoch 55/100\n",
      "37/37 [==============================] - 0s 8ms/step - loss: 2.4444e-06 - accuracy: 1.0000\n",
      "Epoch 56/100\n",
      "37/37 [==============================] - 0s 7ms/step - loss: 2.1402e-06 - accuracy: 1.0000\n",
      "Epoch 57/100\n",
      "37/37 [==============================] - 0s 7ms/step - loss: 2.1678e-06 - accuracy: 1.0000\n",
      "Epoch 58/100\n",
      "37/37 [==============================] - 0s 6ms/step - loss: 1.9489e-06 - accuracy: 1.0000\n",
      "Epoch 59/100\n",
      "37/37 [==============================] - 0s 6ms/step - loss: 1.7136e-06 - accuracy: 1.0000\n",
      "Epoch 60/100\n",
      "37/37 [==============================] - 0s 6ms/step - loss: 1.7051e-06 - accuracy: 1.0000\n",
      "Epoch 61/100\n",
      "37/37 [==============================] - 0s 7ms/step - loss: 1.5187e-06 - accuracy: 1.0000\n",
      "Epoch 62/100\n",
      "37/37 [==============================] - 0s 8ms/step - loss: 1.7202e-06 - accuracy: 1.0000\n",
      "Epoch 63/100\n",
      "37/37 [==============================] - 0s 9ms/step - loss: 1.3565e-06 - accuracy: 1.0000\n",
      "Epoch 64/100\n",
      "37/37 [==============================] - 0s 10ms/step - loss: 1.3427e-06 - accuracy: 1.0000\n",
      "Epoch 65/100\n",
      "37/37 [==============================] - 0s 8ms/step - loss: 1.4154e-06 - accuracy: 1.0000\n",
      "Epoch 66/100\n",
      "37/37 [==============================] - 0s 10ms/step - loss: 1.2493e-06 - accuracy: 1.0000\n",
      "Epoch 67/100\n",
      "37/37 [==============================] - 0s 10ms/step - loss: 1.2108e-06 - accuracy: 1.0000\n",
      "Epoch 68/100\n",
      "37/37 [==============================] - 0s 8ms/step - loss: 1.2086e-06 - accuracy: 1.0000\n",
      "Epoch 69/100\n",
      "37/37 [==============================] - 0s 7ms/step - loss: 1.2058e-06 - accuracy: 1.0000\n",
      "Epoch 70/100\n",
      "37/37 [==============================] - 0s 7ms/step - loss: 1.0227e-06 - accuracy: 1.0000\n",
      "Epoch 71/100\n",
      "37/37 [==============================] - 0s 8ms/step - loss: 1.0223e-06 - accuracy: 1.0000\n",
      "Epoch 72/100\n",
      "37/37 [==============================] - 0s 8ms/step - loss: 8.7140e-07 - accuracy: 1.0000\n",
      "Epoch 73/100\n",
      "37/37 [==============================] - 0s 8ms/step - loss: 8.7792e-07 - accuracy: 1.0000\n",
      "Epoch 74/100\n",
      "37/37 [==============================] - 0s 7ms/step - loss: 8.9820e-07 - accuracy: 1.0000\n",
      "Epoch 75/100\n",
      "37/37 [==============================] - 0s 9ms/step - loss: 8.0993e-07 - accuracy: 1.0000\n",
      "Epoch 76/100\n",
      "37/37 [==============================] - 0s 7ms/step - loss: 8.0373e-07 - accuracy: 1.0000\n",
      "Epoch 77/100\n",
      "37/37 [==============================] - 0s 6ms/step - loss: 8.1635e-07 - accuracy: 1.0000\n",
      "Epoch 78/100\n",
      "37/37 [==============================] - 0s 7ms/step - loss: 7.6915e-07 - accuracy: 1.0000\n",
      "Epoch 79/100\n",
      "37/37 [==============================] - 0s 10ms/step - loss: 7.1300e-07 - accuracy: 1.0000\n",
      "Epoch 80/100\n",
      "37/37 [==============================] - 0s 8ms/step - loss: 7.4322e-07 - accuracy: 1.0000\n",
      "Epoch 81/100\n",
      "37/37 [==============================] - 0s 8ms/step - loss: 6.2855e-07 - accuracy: 1.0000\n",
      "Epoch 82/100\n",
      "37/37 [==============================] - 0s 12ms/step - loss: 6.4199e-07 - accuracy: 1.0000\n",
      "Epoch 83/100\n",
      "37/37 [==============================] - 0s 7ms/step - loss: 6.3778e-07 - accuracy: 1.0000\n",
      "Epoch 84/100\n",
      "37/37 [==============================] - 0s 9ms/step - loss: 6.0671e-07 - accuracy: 1.0000\n",
      "Epoch 85/100\n",
      "37/37 [==============================] - 0s 8ms/step - loss: 6.4100e-07 - accuracy: 1.0000\n",
      "Epoch 86/100\n",
      "37/37 [==============================] - 0s 8ms/step - loss: 5.4655e-07 - accuracy: 1.0000\n",
      "Epoch 87/100\n",
      "37/37 [==============================] - 0s 7ms/step - loss: 5.2112e-07 - accuracy: 1.0000\n",
      "Epoch 88/100\n",
      "37/37 [==============================] - 0s 8ms/step - loss: 5.2940e-07 - accuracy: 1.0000\n",
      "Epoch 89/100\n",
      "37/37 [==============================] - 0s 8ms/step - loss: 4.6023e-07 - accuracy: 1.0000: 0s - loss: 3.9370e-07 - accura\n",
      "Epoch 90/100\n",
      "37/37 [==============================] - 0s 7ms/step - loss: 5.5693e-07 - accuracy: 1.0000\n",
      "Epoch 91/100\n",
      "37/37 [==============================] - 0s 10ms/step - loss: 4.6054e-07 - accuracy: 1.0000\n",
      "Epoch 92/100\n",
      "37/37 [==============================] - 0s 9ms/step - loss: 4.9720e-07 - accuracy: 1.0000\n",
      "Epoch 93/100\n",
      "37/37 [==============================] - 0s 10ms/step - loss: 4.0010e-07 - accuracy: 1.0000\n",
      "Epoch 94/100\n",
      "37/37 [==============================] - 0s 8ms/step - loss: 4.1163e-07 - accuracy: 1.0000\n",
      "Epoch 95/100\n",
      "37/37 [==============================] - 0s 8ms/step - loss: 4.2539e-07 - accuracy: 1.0000\n",
      "Epoch 96/100\n",
      "37/37 [==============================] - 0s 7ms/step - loss: 3.6515e-07 - accuracy: 1.0000\n",
      "Epoch 97/100\n",
      "37/37 [==============================] - 0s 9ms/step - loss: 4.0961e-07 - accuracy: 1.0000\n",
      "Epoch 98/100\n",
      "37/37 [==============================] - 0s 7ms/step - loss: 3.8657e-07 - accuracy: 1.0000\n",
      "Epoch 99/100\n",
      "37/37 [==============================] - 0s 7ms/step - loss: 3.9382e-07 - accuracy: 1.0000\n",
      "Epoch 100/100\n",
      "37/37 [==============================] - 0s 7ms/step - loss: 3.4596e-07 - accuracy: 1.0000\n"
     ]
    }
   ],
   "source": [
    "md_dl_os.compile(optimizer='Adam', loss='binary_crossentropy', metrics = ['accuracy'])\n",
    "epochs_hist = md_dl_os.fit(Xos_train, yos_train, epochs = 100, batch_size=50)"
   ]
  },
  {
   "cell_type": "code",
   "execution_count": 120,
   "metadata": {},
   "outputs": [],
   "source": [
    "y_pred = md_dl_os.predict(Xos_test)\n",
    "y_pred_a = (y_pred > 0.5) "
   ]
  },
  {
   "cell_type": "code",
   "execution_count": 121,
   "metadata": {},
   "outputs": [
    {
     "data": {
      "application/javascript": [
       "\n",
       "        if (window._pyforest_update_imports_cell) { window._pyforest_update_imports_cell('import pandas as pd\\nimport matplotlib.pyplot as plt\\nimport seaborn as sns'); }\n",
       "    "
      ],
      "text/plain": [
       "<IPython.core.display.Javascript object>"
      ]
     },
     "metadata": {},
     "output_type": "display_data"
    },
    {
     "data": {
      "application/javascript": [
       "\n",
       "        if (window._pyforest_update_imports_cell) { window._pyforest_update_imports_cell('import pandas as pd\\nimport matplotlib.pyplot as plt\\nimport seaborn as sns'); }\n",
       "    "
      ],
      "text/plain": [
       "<IPython.core.display.Javascript object>"
      ]
     },
     "metadata": {},
     "output_type": "display_data"
    },
    {
     "data": {
      "application/javascript": [
       "\n",
       "        if (window._pyforest_update_imports_cell) { window._pyforest_update_imports_cell('import pandas as pd\\nimport matplotlib.pyplot as plt\\nimport seaborn as sns'); }\n",
       "    "
      ],
      "text/plain": [
       "<IPython.core.display.Javascript object>"
      ]
     },
     "metadata": {},
     "output_type": "display_data"
    },
    {
     "data": {
      "application/javascript": [
       "\n",
       "        if (window._pyforest_update_imports_cell) { window._pyforest_update_imports_cell('import pandas as pd\\nimport matplotlib.pyplot as plt\\nimport seaborn as sns'); }\n",
       "    "
      ],
      "text/plain": [
       "<IPython.core.display.Javascript object>"
      ]
     },
     "metadata": {},
     "output_type": "display_data"
    },
    {
     "data": {
      "application/javascript": [
       "\n",
       "        if (window._pyforest_update_imports_cell) { window._pyforest_update_imports_cell('import pandas as pd\\nimport matplotlib.pyplot as plt\\nimport seaborn as sns'); }\n",
       "    "
      ],
      "text/plain": [
       "<IPython.core.display.Javascript object>"
      ]
     },
     "metadata": {},
     "output_type": "display_data"
    },
    {
     "data": {
      "text/plain": [
       "<matplotlib.legend.Legend at 0x1e9f7b0ada0>"
      ]
     },
     "execution_count": 121,
     "metadata": {},
     "output_type": "execute_result"
    },
    {
     "data": {
      "image/png": "[encoded data removed]",
      "text/plain": [
       "<Figure size 432x288 with 1 Axes>"
      ]
     },
     "metadata": {
      "needs_background": "light"
     },
     "output_type": "display_data"
    }
   ],
   "source": [
    "plt.plot(epochs_hist.history['loss'])\n",
    "plt.title('Model Loss Progress During Training')\n",
    "plt.xlabel('Epoch')\n",
    "plt.ylabel('Training Loss')\n",
    "plt.legend(['Training Loss'])"
   ]
  },
  {
   "cell_type": "code",
   "execution_count": 122,
   "metadata": {},
   "outputs": [
    {
     "data": {
      "application/javascript": [
       "\n",
       "        if (window._pyforest_update_imports_cell) { window._pyforest_update_imports_cell('import pandas as pd\\nimport matplotlib.pyplot as plt\\nimport seaborn as sns'); }\n",
       "    "
      ],
      "text/plain": [
       "<IPython.core.display.Javascript object>"
      ]
     },
     "metadata": {},
     "output_type": "display_data"
    },
    {
     "data": {
      "application/javascript": [
       "\n",
       "        if (window._pyforest_update_imports_cell) { window._pyforest_update_imports_cell('import pandas as pd\\nimport matplotlib.pyplot as plt\\nimport seaborn as sns'); }\n",
       "    "
      ],
      "text/plain": [
       "<IPython.core.display.Javascript object>"
      ]
     },
     "metadata": {},
     "output_type": "display_data"
    },
    {
     "data": {
      "application/javascript": [
       "\n",
       "        if (window._pyforest_update_imports_cell) { window._pyforest_update_imports_cell('import pandas as pd\\nimport matplotlib.pyplot as plt\\nimport seaborn as sns'); }\n",
       "    "
      ],
      "text/plain": [
       "<IPython.core.display.Javascript object>"
      ]
     },
     "metadata": {},
     "output_type": "display_data"
    },
    {
     "data": {
      "application/javascript": [
       "\n",
       "        if (window._pyforest_update_imports_cell) { window._pyforest_update_imports_cell('import pandas as pd\\nimport matplotlib.pyplot as plt\\nimport seaborn as sns'); }\n",
       "    "
      ],
      "text/plain": [
       "<IPython.core.display.Javascript object>"
      ]
     },
     "metadata": {},
     "output_type": "display_data"
    },
    {
     "data": {
      "application/javascript": [
       "\n",
       "        if (window._pyforest_update_imports_cell) { window._pyforest_update_imports_cell('import pandas as pd\\nimport matplotlib.pyplot as plt\\nimport seaborn as sns'); }\n",
       "    "
      ],
      "text/plain": [
       "<IPython.core.display.Javascript object>"
      ]
     },
     "metadata": {},
     "output_type": "display_data"
    },
    {
     "data": {
      "text/plain": [
       "<matplotlib.legend.Legend at 0x1e9f7a5f518>"
      ]
     },
     "execution_count": 122,
     "metadata": {},
     "output_type": "execute_result"
    },
    {
     "data": {
      "image/png": "[encoded data removed]",
      "text/plain": [
       "<Figure size 432x288 with 1 Axes>"
      ]
     },
     "metadata": {
      "needs_background": "light"
     },
     "output_type": "display_data"
    }
   ],
   "source": [
    "plt.plot(epochs_hist.history['accuracy'])\n",
    "plt.title('Model Loss Progress During Training')\n",
    "plt.xlabel('Epoch')\n",
    "plt.ylabel('Training Loss')\n",
    "plt.legend(['Training Loss'])"
   ]
  },
  {
   "cell_type": "code",
   "execution_count": 123,
   "metadata": {},
   "outputs": [
    {
     "data": {
      "text/plain": [
       "array([[280,  31],\n",
       "       [  5, 301]], dtype=int64)"
      ]
     },
     "execution_count": 123,
     "metadata": {},
     "output_type": "execute_result"
    }
   ],
   "source": [
    "confusion_matrix(y_true=yos_test, y_pred=y_pred_a)"
   ]
  },
  {
   "cell_type": "code",
   "execution_count": 124,
   "metadata": {},
   "outputs": [
    {
     "name": "stdout",
     "output_type": "stream",
     "text": [
      "              precision    recall  f1-score   support\n",
      "\n",
      "           0       0.98      0.90      0.94       311\n",
      "           1       0.91      0.98      0.94       306\n",
      "\n",
      "    accuracy                           0.94       617\n",
      "   macro avg       0.94      0.94      0.94       617\n",
      "weighted avg       0.94      0.94      0.94       617\n",
      "\n"
     ]
    }
   ],
   "source": [
    "print(classification_report(yos_test, y_pred_a))"
   ]
  },
  {
   "cell_type": "markdown",
   "metadata": {},
   "source": [
    "## TRAIN AND EVALUATE A XGB MODEL "
   ]
  },
  {
   "cell_type": "code",
   "execution_count": 125,
   "metadata": {},
   "outputs": [],
   "source": [
    "from xgboost import XGBClassifier"
   ]
  },
  {
   "cell_type": "code",
   "execution_count": 126,
   "metadata": {},
   "outputs": [
    {
     "data": {
      "text/plain": [
       "XGBClassifier(base_score=0.5, booster='gbtree', colsample_bylevel=1,\n",
       "              colsample_bynode=1, colsample_bytree=1, gamma=0, gpu_id=-1,\n",
       "              importance_type='gain', interaction_constraints='',\n",
       "              learning_rate=0.300000012, max_delta_step=0, max_depth=6,\n",
       "              min_child_weight=1, missing=nan, monotone_constraints='()',\n",
       "              n_estimators=100, n_jobs=0, num_parallel_tree=1, random_state=0,\n",
       "              reg_alpha=0, reg_lambda=1, scale_pos_weight=1, subsample=1,\n",
       "              tree_method='exact', validate_parameters=1, verbosity=None)"
      ]
     },
     "execution_count": 126,
     "metadata": {},
     "output_type": "execute_result"
    }
   ],
   "source": [
    "XGBc = XGBClassifier()\n",
    "XGBc.fit(X_train, y_train)"
   ]
  },
  {
   "cell_type": "code",
   "execution_count": 127,
   "metadata": {},
   "outputs": [],
   "source": [
    "XGB_pred = XGBc.predict(X_test)"
   ]
  },
  {
   "cell_type": "code",
   "execution_count": 128,
   "metadata": {},
   "outputs": [
    {
     "name": "stdout",
     "output_type": "stream",
     "text": [
      "[[313   7]\n",
      " [ 34  14]]\n"
     ]
    }
   ],
   "source": [
    "print(confusion_matrix(y_true=y_test, y_pred=XGB_pred))"
   ]
  },
  {
   "cell_type": "code",
   "execution_count": 129,
   "metadata": {},
   "outputs": [
    {
     "name": "stdout",
     "output_type": "stream",
     "text": [
      "              precision    recall  f1-score   support\n",
      "\n",
      "           0       0.90      0.98      0.94       320\n",
      "           1       0.67      0.29      0.41        48\n",
      "\n",
      "    accuracy                           0.89       368\n",
      "   macro avg       0.78      0.63      0.67       368\n",
      "weighted avg       0.87      0.89      0.87       368\n",
      "\n"
     ]
    }
   ],
   "source": [
    "print(classification_report(y_test, XGB_pred))"
   ]
  },
  {
   "cell_type": "code",
   "execution_count": 130,
   "metadata": {},
   "outputs": [
    {
     "data": {
      "text/plain": [
       "array([0.02115235, 0.01930645, 0.02002809, 0.02589028, 0.01681869,\n",
       "       0.02389413, 0.02096378, 0.03212735, 0.02781391, 0.05494069,\n",
       "       0.01252447, 0.        , 0.0192277 , 0.0464735 , 0.03463629,\n",
       "       0.01717274, 0.02286709, 0.02702321, 0.02457965, 0.02556697,\n",
       "       0.01647914, 0.02973347, 0.01309747, 0.01209476, 0.0560981 ,\n",
       "       0.01975161, 0.11893908, 0.01692741, 0.01044221, 0.01812893,\n",
       "       0.01548003, 0.00088006, 0.01564146, 0.        , 0.01635835,\n",
       "       0.        , 0.04117052, 0.03511221, 0.01511159, 0.01884119,\n",
       "       0.03670505], dtype=float32)"
      ]
     },
     "execution_count": 130,
     "metadata": {},
     "output_type": "execute_result"
    }
   ],
   "source": [
    "XGBc.feature_importances_"
   ]
  },
  {
   "cell_type": "code",
   "execution_count": 131,
   "metadata": {},
   "outputs": [
    {
     "data": {
      "application/javascript": [
       "\n",
       "        if (window._pyforest_update_imports_cell) { window._pyforest_update_imports_cell('import pandas as pd\\nimport matplotlib.pyplot as plt\\nimport seaborn as sns'); }\n",
       "    "
      ],
      "text/plain": [
       "<IPython.core.display.Javascript object>"
      ]
     },
     "metadata": {},
     "output_type": "display_data"
    },
    {
     "data": {
      "text/plain": [
       "<matplotlib.axes._subplots.AxesSubplot at 0x1e9f7c125f8>"
      ]
     },
     "execution_count": 131,
     "metadata": {},
     "output_type": "execute_result"
    },
    {
     "data": {
      "image/png": "[encoded data removed]",
      "text/plain": [
       "<Figure size 1440x720 with 1 Axes>"
      ]
     },
     "metadata": {
      "needs_background": "light"
     },
     "output_type": "display_data"
    }
   ],
   "source": [
    "importance = pd.DataFrame(data= XGBc.feature_importances_, index=df_index.columns, columns=['Importance'])\n",
    "abs(importance).sort_values('Importance',ascending=False).plot.bar(figsize=(20,10))"
   ]
  },
  {
   "cell_type": "markdown",
   "metadata": {},
   "source": [
    "**Using SMOTE**"
   ]
  },
  {
   "cell_type": "code",
   "execution_count": 132,
   "metadata": {},
   "outputs": [
    {
     "data": {
      "text/plain": [
       "XGBClassifier(base_score=0.5, booster='gbtree', colsample_bylevel=1,\n",
       "              colsample_bynode=1, colsample_bytree=1, gamma=0, gpu_id=-1,\n",
       "              importance_type='gain', interaction_constraints='',\n",
       "              learning_rate=0.300000012, max_delta_step=0, max_depth=6,\n",
       "              min_child_weight=1, missing=nan, monotone_constraints='()',\n",
       "              n_estimators=100, n_jobs=0, num_parallel_tree=1, random_state=0,\n",
       "              reg_alpha=0, reg_lambda=1, scale_pos_weight=1, subsample=1,\n",
       "              tree_method='exact', validate_parameters=1, verbosity=None)"
      ]
     },
     "execution_count": 132,
     "metadata": {},
     "output_type": "execute_result"
    }
   ],
   "source": [
    "md_XGB_os = XGBClassifier()\n",
    "md_XGB_os.fit(Xos_train, yos_train)"
   ]
  },
  {
   "cell_type": "code",
   "execution_count": 133,
   "metadata": {},
   "outputs": [],
   "source": [
    "XGB_pred_os = md_XGB_os.predict(Xos_test)"
   ]
  },
  {
   "cell_type": "code",
   "execution_count": 135,
   "metadata": {},
   "outputs": [
    {
     "name": "stdout",
     "output_type": "stream",
     "text": [
      "[[300  11]\n",
      " [ 32 274]]\n"
     ]
    }
   ],
   "source": [
    "print(confusion_matrix(y_true=yos_test, y_pred=XGB_pred_os))"
   ]
  },
  {
   "cell_type": "code",
   "execution_count": 136,
   "metadata": {},
   "outputs": [
    {
     "name": "stdout",
     "output_type": "stream",
     "text": [
      "              precision    recall  f1-score   support\n",
      "\n",
      "           0       0.90      0.96      0.93       311\n",
      "           1       0.96      0.90      0.93       306\n",
      "\n",
      "    accuracy                           0.93       617\n",
      "   macro avg       0.93      0.93      0.93       617\n",
      "weighted avg       0.93      0.93      0.93       617\n",
      "\n"
     ]
    }
   ],
   "source": [
    "print(classification_report(yos_test, XGB_pred_os))"
   ]
  },
  {
   "cell_type": "markdown",
   "metadata": {},
   "source": [
    "**Feature Importance**"
   ]
  },
  {
   "cell_type": "code",
   "execution_count": 137,
   "metadata": {},
   "outputs": [
    {
     "data": {
      "text/plain": [
       "array([0.01805854, 0.01395485, 0.01745432, 0.02048645, 0.00621245,\n",
       "       0.03523465, 0.02806647, 0.02736743, 0.0272332 , 0.14307006,\n",
       "       0.00757684, 0.00786828, 0.01871871, 0.08485301, 0.00999298,\n",
       "       0.01966373, 0.0344332 , 0.01190152, 0.0134333 , 0.01237389,\n",
       "       0.02674468, 0.02027803, 0.01098468, 0.00825179, 0.00778497,\n",
       "       0.01073523, 0.02812058, 0.00955254, 0.00907779, 0.01324018,\n",
       "       0.01434552, 0.0123717 , 0.02756541, 0.        , 0.03640966,\n",
       "       0.        , 0.03586182, 0.12060574, 0.02364681, 0.01061214,\n",
       "       0.01585686], dtype=float32)"
      ]
     },
     "execution_count": 137,
     "metadata": {},
     "output_type": "execute_result"
    }
   ],
   "source": [
    "md_XGB_os.feature_importances_"
   ]
  },
  {
   "cell_type": "code",
   "execution_count": 138,
   "metadata": {},
   "outputs": [
    {
     "data": {
      "application/javascript": [
       "\n",
       "        if (window._pyforest_update_imports_cell) { window._pyforest_update_imports_cell('import pandas as pd\\nimport matplotlib.pyplot as plt\\nimport seaborn as sns'); }\n",
       "    "
      ],
      "text/plain": [
       "<IPython.core.display.Javascript object>"
      ]
     },
     "metadata": {},
     "output_type": "display_data"
    },
    {
     "data": {
      "text/plain": [
       "<matplotlib.axes._subplots.AxesSubplot at 0x1e9f9276278>"
      ]
     },
     "execution_count": 138,
     "metadata": {},
     "output_type": "execute_result"
    },
    {
     "data": {
      "image/png": "[encoded data removed]",
      "text/plain": [
       "<Figure size 1440x720 with 1 Axes>"
      ]
     },
     "metadata": {
      "needs_background": "light"
     },
     "output_type": "display_data"
    }
   ],
   "source": [
    "importance = pd.DataFrame(data= md_XGB_os.feature_importances_, index=df_index.columns, columns=['Importance'])\n",
    "abs(importance).sort_values('Importance',ascending=False).plot.bar(figsize=(20,10))"
   ]
  },
  {
   "cell_type": "markdown",
   "metadata": {},
   "source": [
    "***Lets create a new df with only the selected features***"
   ]
  },
  {
   "cell_type": "code",
   "execution_count": 140,
   "metadata": {},
   "outputs": [
    {
     "data": {
      "text/plain": [
       "['YearsAtCompany',\n",
       " 'DailyRate',\n",
       " 'PercentSalaryHike',\n",
       " 'Gender',\n",
       " 'HourlyRate',\n",
       " 'PerformanceRating',\n",
       " 'TrainingTimesLastYear',\n",
       " 'EmployeeCount',\n",
       " 'StandardHours',\n",
       " 'Over18',\n",
       " 'EmployeeNumber',\n",
       " 'MonthlyRate',\n",
       " 'JobLevel']"
      ]
     },
     "execution_count": 140,
     "metadata": {},
     "output_type": "execute_result"
    }
   ],
   "source": [
    "remove=['YearsAtCompany', 'DailyRate','PercentSalaryHike', 'Gender', 'HourlyRate', 'PerformanceRating', 'TrainingTimesLastYear',\n",
    "       'EmployeeCount','StandardHours','Over18','EmployeeNumber', 'MonthlyRate', 'JobLevel']\n",
    "remove"
   ]
  },
  {
   "cell_type": "code",
   "execution_count": 141,
   "metadata": {},
   "outputs": [
    {
     "data": {
      "application/javascript": [
       "\n",
       "        if (window._pyforest_update_imports_cell) { window._pyforest_update_imports_cell('import pandas as pd\\nimport matplotlib.pyplot as plt\\nimport seaborn as sns'); }\n",
       "    "
      ],
      "text/plain": [
       "<IPython.core.display.Javascript object>"
      ]
     },
     "metadata": {},
     "output_type": "display_data"
    }
   ],
   "source": [
    "data_original = pd.read_csv('Human_Resources.csv')"
   ]
  },
  {
   "cell_type": "code",
   "execution_count": 235,
   "metadata": {},
   "outputs": [],
   "source": [
    "# features = []\n",
    "# for col in original.columns:\n",
    "#     features.append(col)\n"
   ]
  },
  {
   "cell_type": "code",
   "execution_count": 143,
   "metadata": {},
   "outputs": [
    {
     "data": {
      "text/plain": [
       "Index(['Age', 'Attrition', 'BusinessTravel', 'DailyRate', 'Department',\n",
       "       'DistanceFromHome', 'Education', 'EducationField', 'EmployeeCount',\n",
       "       'EmployeeNumber', 'EnvironmentSatisfaction', 'Gender', 'HourlyRate',\n",
       "       'JobInvolvement', 'JobLevel', 'JobRole', 'JobSatisfaction',\n",
       "       'MaritalStatus', 'MonthlyIncome', 'MonthlyRate', 'NumCompaniesWorked',\n",
       "       'Over18', 'OverTime', 'PercentSalaryHike', 'PerformanceRating',\n",
       "       'RelationshipSatisfaction', 'StandardHours', 'StockOptionLevel',\n",
       "       'TotalWorkingYears', 'TrainingTimesLastYear', 'WorkLifeBalance',\n",
       "       'YearsAtCompany', 'YearsInCurrentRole', 'YearsSinceLastPromotion',\n",
       "       'YearsWithCurrManager'],\n",
       "      dtype='object')"
      ]
     },
     "execution_count": 143,
     "metadata": {},
     "output_type": "execute_result"
    }
   ],
   "source": [
    "data_original.columns"
   ]
  },
  {
   "cell_type": "code",
   "execution_count": 144,
   "metadata": {},
   "outputs": [],
   "source": [
    "features = ['Age', 'Attrition', 'BusinessTravel', 'DailyRate', 'Department',\n",
    "       'DistanceFromHome', 'Education', 'EducationField', 'EmployeeCount',\n",
    "       'EmployeeNumber', 'EnvironmentSatisfaction', 'Gender', 'HourlyRate',\n",
    "       'JobInvolvement', 'JobLevel', 'JobRole', 'JobSatisfaction',\n",
    "       'MaritalStatus', 'MonthlyIncome', 'MonthlyRate', 'NumCompaniesWorked',\n",
    "       'Over18', 'OverTime', 'PercentSalaryHike', 'PerformanceRating',\n",
    "       'RelationshipSatisfaction', 'StandardHours', 'StockOptionLevel',\n",
    "       'TotalWorkingYears', 'TrainingTimesLastYear', 'WorkLifeBalance',\n",
    "       'YearsAtCompany', 'YearsInCurrentRole', 'YearsSinceLastPromotion',\n",
    "       'YearsWithCurrManager']"
   ]
  },
  {
   "cell_type": "code",
   "execution_count": 145,
   "metadata": {},
   "outputs": [],
   "source": [
    "selected_features = [item for item in features if item not in remove]"
   ]
  },
  {
   "cell_type": "code",
   "execution_count": 146,
   "metadata": {},
   "outputs": [
    {
     "name": "stdout",
     "output_type": "stream",
     "text": [
      "Total features: 35\n",
      "Features to remove: 13\n",
      "Selected features: 22\n"
     ]
    }
   ],
   "source": [
    "print('Total features: {}'.format(len(features)))\n",
    "print('Features to remove: {}'.format(len(remove)))\n",
    "print('Selected features: {}'.format(len(selected_features)))"
   ]
  },
  {
   "cell_type": "code",
   "execution_count": 147,
   "metadata": {},
   "outputs": [
    {
     "data": {
      "application/javascript": [
       "\n",
       "        if (window._pyforest_update_imports_cell) { window._pyforest_update_imports_cell('import pandas as pd\\nimport matplotlib.pyplot as plt\\nimport seaborn as sns'); }\n",
       "    "
      ],
      "text/plain": [
       "<IPython.core.display.Javascript object>"
      ]
     },
     "metadata": {},
     "output_type": "display_data"
    }
   ],
   "source": [
    "# save selected features\n",
    "pd.Series(selected_features).to_csv('selected_features.csv', index=False)"
   ]
  },
  {
   "cell_type": "code",
   "execution_count": 150,
   "metadata": {},
   "outputs": [
    {
     "data": {
      "text/html": [
       "<div>\n",
       "<style scoped>\n",
       "    .dataframe tbody tr th:only-of-type {\n",
       "        vertical-align: middle;\n",
       "    }\n",
       "\n",
       "    .dataframe tbody tr th {\n",
       "        vertical-align: top;\n",
       "    }\n",
       "\n",
       "    .dataframe thead th {\n",
       "        text-align: right;\n",
       "    }\n",
       "</style>\n",
       "<table border=\"1\" class=\"dataframe\">\n",
       "  <thead>\n",
       "    <tr style=\"text-align: right;\">\n",
       "      <th></th>\n",
       "      <th>Age</th>\n",
       "      <th>Attrition</th>\n",
       "      <th>BusinessTravel</th>\n",
       "      <th>Department</th>\n",
       "      <th>DistanceFromHome</th>\n",
       "      <th>Education</th>\n",
       "      <th>EducationField</th>\n",
       "      <th>EnvironmentSatisfaction</th>\n",
       "      <th>JobInvolvement</th>\n",
       "      <th>JobRole</th>\n",
       "      <th>...</th>\n",
       "      <th>MonthlyIncome</th>\n",
       "      <th>NumCompaniesWorked</th>\n",
       "      <th>OverTime</th>\n",
       "      <th>RelationshipSatisfaction</th>\n",
       "      <th>StockOptionLevel</th>\n",
       "      <th>TotalWorkingYears</th>\n",
       "      <th>WorkLifeBalance</th>\n",
       "      <th>YearsInCurrentRole</th>\n",
       "      <th>YearsSinceLastPromotion</th>\n",
       "      <th>YearsWithCurrManager</th>\n",
       "    </tr>\n",
       "  </thead>\n",
       "  <tbody>\n",
       "    <tr>\n",
       "      <th>0</th>\n",
       "      <td>41</td>\n",
       "      <td>Yes</td>\n",
       "      <td>Travel_Rarely</td>\n",
       "      <td>Sales</td>\n",
       "      <td>1</td>\n",
       "      <td>2</td>\n",
       "      <td>Life Sciences</td>\n",
       "      <td>2</td>\n",
       "      <td>3</td>\n",
       "      <td>Sales Executive</td>\n",
       "      <td>...</td>\n",
       "      <td>5993</td>\n",
       "      <td>8</td>\n",
       "      <td>Yes</td>\n",
       "      <td>1</td>\n",
       "      <td>0</td>\n",
       "      <td>8</td>\n",
       "      <td>1</td>\n",
       "      <td>4</td>\n",
       "      <td>0</td>\n",
       "      <td>5</td>\n",
       "    </tr>\n",
       "    <tr>\n",
       "      <th>1</th>\n",
       "      <td>49</td>\n",
       "      <td>No</td>\n",
       "      <td>Travel_Frequently</td>\n",
       "      <td>Research &amp; Development</td>\n",
       "      <td>8</td>\n",
       "      <td>1</td>\n",
       "      <td>Life Sciences</td>\n",
       "      <td>3</td>\n",
       "      <td>2</td>\n",
       "      <td>Research Scientist</td>\n",
       "      <td>...</td>\n",
       "      <td>5130</td>\n",
       "      <td>1</td>\n",
       "      <td>No</td>\n",
       "      <td>4</td>\n",
       "      <td>1</td>\n",
       "      <td>10</td>\n",
       "      <td>3</td>\n",
       "      <td>7</td>\n",
       "      <td>1</td>\n",
       "      <td>7</td>\n",
       "    </tr>\n",
       "    <tr>\n",
       "      <th>2</th>\n",
       "      <td>37</td>\n",
       "      <td>Yes</td>\n",
       "      <td>Travel_Rarely</td>\n",
       "      <td>Research &amp; Development</td>\n",
       "      <td>2</td>\n",
       "      <td>2</td>\n",
       "      <td>Other</td>\n",
       "      <td>4</td>\n",
       "      <td>2</td>\n",
       "      <td>Laboratory Technician</td>\n",
       "      <td>...</td>\n",
       "      <td>2090</td>\n",
       "      <td>6</td>\n",
       "      <td>Yes</td>\n",
       "      <td>2</td>\n",
       "      <td>0</td>\n",
       "      <td>7</td>\n",
       "      <td>3</td>\n",
       "      <td>0</td>\n",
       "      <td>0</td>\n",
       "      <td>0</td>\n",
       "    </tr>\n",
       "    <tr>\n",
       "      <th>3</th>\n",
       "      <td>33</td>\n",
       "      <td>No</td>\n",
       "      <td>Travel_Frequently</td>\n",
       "      <td>Research &amp; Development</td>\n",
       "      <td>3</td>\n",
       "      <td>4</td>\n",
       "      <td>Life Sciences</td>\n",
       "      <td>4</td>\n",
       "      <td>3</td>\n",
       "      <td>Research Scientist</td>\n",
       "      <td>...</td>\n",
       "      <td>2909</td>\n",
       "      <td>1</td>\n",
       "      <td>Yes</td>\n",
       "      <td>3</td>\n",
       "      <td>0</td>\n",
       "      <td>8</td>\n",
       "      <td>3</td>\n",
       "      <td>7</td>\n",
       "      <td>3</td>\n",
       "      <td>0</td>\n",
       "    </tr>\n",
       "    <tr>\n",
       "      <th>4</th>\n",
       "      <td>27</td>\n",
       "      <td>No</td>\n",
       "      <td>Travel_Rarely</td>\n",
       "      <td>Research &amp; Development</td>\n",
       "      <td>2</td>\n",
       "      <td>1</td>\n",
       "      <td>Medical</td>\n",
       "      <td>1</td>\n",
       "      <td>3</td>\n",
       "      <td>Laboratory Technician</td>\n",
       "      <td>...</td>\n",
       "      <td>3468</td>\n",
       "      <td>9</td>\n",
       "      <td>No</td>\n",
       "      <td>4</td>\n",
       "      <td>1</td>\n",
       "      <td>6</td>\n",
       "      <td>3</td>\n",
       "      <td>2</td>\n",
       "      <td>2</td>\n",
       "      <td>2</td>\n",
       "    </tr>\n",
       "  </tbody>\n",
       "</table>\n",
       "<p>5 rows × 22 columns</p>\n",
       "</div>"
      ],
      "text/plain": [
       "   Age Attrition     BusinessTravel              Department  DistanceFromHome  \\\n",
       "0   41       Yes      Travel_Rarely                   Sales                 1   \n",
       "1   49        No  Travel_Frequently  Research & Development                 8   \n",
       "2   37       Yes      Travel_Rarely  Research & Development                 2   \n",
       "3   33        No  Travel_Frequently  Research & Development                 3   \n",
       "4   27        No      Travel_Rarely  Research & Development                 2   \n",
       "\n",
       "   Education EducationField  EnvironmentSatisfaction  JobInvolvement  \\\n",
       "0          2  Life Sciences                        2               3   \n",
       "1          1  Life Sciences                        3               2   \n",
       "2          2          Other                        4               2   \n",
       "3          4  Life Sciences                        4               3   \n",
       "4          1        Medical                        1               3   \n",
       "\n",
       "                 JobRole  ...  MonthlyIncome NumCompaniesWorked  OverTime  \\\n",
       "0        Sales Executive  ...           5993                  8       Yes   \n",
       "1     Research Scientist  ...           5130                  1        No   \n",
       "2  Laboratory Technician  ...           2090                  6       Yes   \n",
       "3     Research Scientist  ...           2909                  1       Yes   \n",
       "4  Laboratory Technician  ...           3468                  9        No   \n",
       "\n",
       "   RelationshipSatisfaction StockOptionLevel  TotalWorkingYears  \\\n",
       "0                         1                0                  8   \n",
       "1                         4                1                 10   \n",
       "2                         2                0                  7   \n",
       "3                         3                0                  8   \n",
       "4                         4                1                  6   \n",
       "\n",
       "   WorkLifeBalance  YearsInCurrentRole  YearsSinceLastPromotion  \\\n",
       "0                1                   4                        0   \n",
       "1                3                   7                        1   \n",
       "2                3                   0                        0   \n",
       "3                3                   7                        3   \n",
       "4                3                   2                        2   \n",
       "\n",
       "   YearsWithCurrManager  \n",
       "0                     5  \n",
       "1                     7  \n",
       "2                     0  \n",
       "3                     0  \n",
       "4                     2  \n",
       "\n",
       "[5 rows x 22 columns]"
      ]
     },
     "execution_count": 150,
     "metadata": {},
     "output_type": "execute_result"
    }
   ],
   "source": [
    "# Create dataset with important features only\n",
    "new_df = data_original[selected_features]\n",
    "new_df.head()"
   ]
  },
  {
   "cell_type": "code",
   "execution_count": 149,
   "metadata": {},
   "outputs": [],
   "source": [
    "# Updated csv with important features only\n",
    "new_df.to_csv('new_HR.csv', index=False)"
   ]
  },
  {
   "cell_type": "code",
   "execution_count": 152,
   "metadata": {},
   "outputs": [
    {
     "data": {
      "application/javascript": [
       "\n",
       "        if (window._pyforest_update_imports_cell) { window._pyforest_update_imports_cell('import pandas as pd\\nimport matplotlib.pyplot as plt\\nimport seaborn as sns'); }\n",
       "    "
      ],
      "text/plain": [
       "<IPython.core.display.Javascript object>"
      ]
     },
     "metadata": {},
     "output_type": "display_data"
    },
    {
     "data": {
      "text/html": [
       "<div>\n",
       "<style scoped>\n",
       "    .dataframe tbody tr th:only-of-type {\n",
       "        vertical-align: middle;\n",
       "    }\n",
       "\n",
       "    .dataframe tbody tr th {\n",
       "        vertical-align: top;\n",
       "    }\n",
       "\n",
       "    .dataframe thead th {\n",
       "        text-align: right;\n",
       "    }\n",
       "</style>\n",
       "<table border=\"1\" class=\"dataframe\">\n",
       "  <thead>\n",
       "    <tr style=\"text-align: right;\">\n",
       "      <th></th>\n",
       "      <th>Age</th>\n",
       "      <th>Attrition</th>\n",
       "      <th>BusinessTravel</th>\n",
       "      <th>Department</th>\n",
       "      <th>DistanceFromHome</th>\n",
       "      <th>Education</th>\n",
       "      <th>EducationField</th>\n",
       "      <th>EnvironmentSatisfaction</th>\n",
       "      <th>JobInvolvement</th>\n",
       "      <th>JobRole</th>\n",
       "      <th>...</th>\n",
       "      <th>MonthlyIncome</th>\n",
       "      <th>NumCompaniesWorked</th>\n",
       "      <th>OverTime</th>\n",
       "      <th>RelationshipSatisfaction</th>\n",
       "      <th>StockOptionLevel</th>\n",
       "      <th>TotalWorkingYears</th>\n",
       "      <th>WorkLifeBalance</th>\n",
       "      <th>YearsInCurrentRole</th>\n",
       "      <th>YearsSinceLastPromotion</th>\n",
       "      <th>YearsWithCurrManager</th>\n",
       "    </tr>\n",
       "  </thead>\n",
       "  <tbody>\n",
       "    <tr>\n",
       "      <th>0</th>\n",
       "      <td>41</td>\n",
       "      <td>Yes</td>\n",
       "      <td>Travel_Rarely</td>\n",
       "      <td>Sales</td>\n",
       "      <td>1</td>\n",
       "      <td>2</td>\n",
       "      <td>Life Sciences</td>\n",
       "      <td>2</td>\n",
       "      <td>3</td>\n",
       "      <td>Sales Executive</td>\n",
       "      <td>...</td>\n",
       "      <td>5993</td>\n",
       "      <td>8</td>\n",
       "      <td>Yes</td>\n",
       "      <td>1</td>\n",
       "      <td>0</td>\n",
       "      <td>8</td>\n",
       "      <td>1</td>\n",
       "      <td>4</td>\n",
       "      <td>0</td>\n",
       "      <td>5</td>\n",
       "    </tr>\n",
       "    <tr>\n",
       "      <th>1</th>\n",
       "      <td>49</td>\n",
       "      <td>No</td>\n",
       "      <td>Travel_Frequently</td>\n",
       "      <td>Research &amp; Development</td>\n",
       "      <td>8</td>\n",
       "      <td>1</td>\n",
       "      <td>Life Sciences</td>\n",
       "      <td>3</td>\n",
       "      <td>2</td>\n",
       "      <td>Research Scientist</td>\n",
       "      <td>...</td>\n",
       "      <td>5130</td>\n",
       "      <td>1</td>\n",
       "      <td>No</td>\n",
       "      <td>4</td>\n",
       "      <td>1</td>\n",
       "      <td>10</td>\n",
       "      <td>3</td>\n",
       "      <td>7</td>\n",
       "      <td>1</td>\n",
       "      <td>7</td>\n",
       "    </tr>\n",
       "    <tr>\n",
       "      <th>2</th>\n",
       "      <td>37</td>\n",
       "      <td>Yes</td>\n",
       "      <td>Travel_Rarely</td>\n",
       "      <td>Research &amp; Development</td>\n",
       "      <td>2</td>\n",
       "      <td>2</td>\n",
       "      <td>Other</td>\n",
       "      <td>4</td>\n",
       "      <td>2</td>\n",
       "      <td>Laboratory Technician</td>\n",
       "      <td>...</td>\n",
       "      <td>2090</td>\n",
       "      <td>6</td>\n",
       "      <td>Yes</td>\n",
       "      <td>2</td>\n",
       "      <td>0</td>\n",
       "      <td>7</td>\n",
       "      <td>3</td>\n",
       "      <td>0</td>\n",
       "      <td>0</td>\n",
       "      <td>0</td>\n",
       "    </tr>\n",
       "    <tr>\n",
       "      <th>3</th>\n",
       "      <td>33</td>\n",
       "      <td>No</td>\n",
       "      <td>Travel_Frequently</td>\n",
       "      <td>Research &amp; Development</td>\n",
       "      <td>3</td>\n",
       "      <td>4</td>\n",
       "      <td>Life Sciences</td>\n",
       "      <td>4</td>\n",
       "      <td>3</td>\n",
       "      <td>Research Scientist</td>\n",
       "      <td>...</td>\n",
       "      <td>2909</td>\n",
       "      <td>1</td>\n",
       "      <td>Yes</td>\n",
       "      <td>3</td>\n",
       "      <td>0</td>\n",
       "      <td>8</td>\n",
       "      <td>3</td>\n",
       "      <td>7</td>\n",
       "      <td>3</td>\n",
       "      <td>0</td>\n",
       "    </tr>\n",
       "    <tr>\n",
       "      <th>4</th>\n",
       "      <td>27</td>\n",
       "      <td>No</td>\n",
       "      <td>Travel_Rarely</td>\n",
       "      <td>Research &amp; Development</td>\n",
       "      <td>2</td>\n",
       "      <td>1</td>\n",
       "      <td>Medical</td>\n",
       "      <td>1</td>\n",
       "      <td>3</td>\n",
       "      <td>Laboratory Technician</td>\n",
       "      <td>...</td>\n",
       "      <td>3468</td>\n",
       "      <td>9</td>\n",
       "      <td>No</td>\n",
       "      <td>4</td>\n",
       "      <td>1</td>\n",
       "      <td>6</td>\n",
       "      <td>3</td>\n",
       "      <td>2</td>\n",
       "      <td>2</td>\n",
       "      <td>2</td>\n",
       "    </tr>\n",
       "  </tbody>\n",
       "</table>\n",
       "<p>5 rows × 22 columns</p>\n",
       "</div>"
      ],
      "text/plain": [
       "   Age Attrition     BusinessTravel              Department  DistanceFromHome  \\\n",
       "0   41       Yes      Travel_Rarely                   Sales                 1   \n",
       "1   49        No  Travel_Frequently  Research & Development                 8   \n",
       "2   37       Yes      Travel_Rarely  Research & Development                 2   \n",
       "3   33        No  Travel_Frequently  Research & Development                 3   \n",
       "4   27        No      Travel_Rarely  Research & Development                 2   \n",
       "\n",
       "   Education EducationField  EnvironmentSatisfaction  JobInvolvement  \\\n",
       "0          2  Life Sciences                        2               3   \n",
       "1          1  Life Sciences                        3               2   \n",
       "2          2          Other                        4               2   \n",
       "3          4  Life Sciences                        4               3   \n",
       "4          1        Medical                        1               3   \n",
       "\n",
       "                 JobRole  ...  MonthlyIncome NumCompaniesWorked  OverTime  \\\n",
       "0        Sales Executive  ...           5993                  8       Yes   \n",
       "1     Research Scientist  ...           5130                  1        No   \n",
       "2  Laboratory Technician  ...           2090                  6       Yes   \n",
       "3     Research Scientist  ...           2909                  1       Yes   \n",
       "4  Laboratory Technician  ...           3468                  9        No   \n",
       "\n",
       "   RelationshipSatisfaction StockOptionLevel  TotalWorkingYears  \\\n",
       "0                         1                0                  8   \n",
       "1                         4                1                 10   \n",
       "2                         2                0                  7   \n",
       "3                         3                0                  8   \n",
       "4                         4                1                  6   \n",
       "\n",
       "   WorkLifeBalance  YearsInCurrentRole  YearsSinceLastPromotion  \\\n",
       "0                1                   4                        0   \n",
       "1                3                   7                        1   \n",
       "2                3                   0                        0   \n",
       "3                3                   7                        3   \n",
       "4                3                   2                        2   \n",
       "\n",
       "   YearsWithCurrManager  \n",
       "0                     5  \n",
       "1                     7  \n",
       "2                     0  \n",
       "3                     0  \n",
       "4                     2  \n",
       "\n",
       "[5 rows x 22 columns]"
      ]
     },
     "execution_count": 152,
     "metadata": {},
     "output_type": "execute_result"
    }
   ],
   "source": [
    "a = pd.read_csv('new_HR.csv')\n",
    "a.head()"
   ]
  }
 ],
 "metadata": {
  "colab": {
   "collapsed_sections": [],
   "name": "Copy of Human Resources Department Skeleton",
   "provenance": []
  },
  "kernelspec": {
   "display_name": "Python 3",
   "language": "python",
   "name": "python3"
  },
  "language_info": {
   "codemirror_mode": {
    "name": "ipython",
    "version": 3
   },
   "file_extension": ".py",
   "mimetype": "text/x-python",
   "name": "python",
   "nbconvert_exporter": "python",
   "pygments_lexer": "ipython3",
   "version": "3.7.2"
  }
 },
 "nbformat": 4,
 "nbformat_minor": 1
}
